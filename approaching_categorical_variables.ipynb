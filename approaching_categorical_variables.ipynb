{
 "cells": [
  {
   "cell_type": "code",
   "execution_count": 1,
   "id": "initial_id",
   "metadata": {
    "collapsed": true,
    "ExecuteTime": {
     "end_time": "2024-03-01T10:59:55.019562800Z",
     "start_time": "2024-03-01T10:59:51.920409700Z"
    }
   },
   "outputs": [
    {
     "data": {
      "text/plain": "<bound method DataFrame.info of             id  bin_0  bin_1  bin_2 bin_3 bin_4 nom_0      nom_1    nom_2  \\\n0            0    0.0    0.0    0.0     F     N   Red  Trapezoid  Hamster   \n1            1    1.0    1.0    0.0     F     Y   Red       Star  Axolotl   \n2            2    0.0    1.0    0.0     F     N   Red        NaN  Hamster   \n3            3    NaN    0.0    0.0     F     N   Red     Circle  Hamster   \n4            4    0.0    NaN    0.0     T     N   Red   Triangle  Hamster   \n...        ...    ...    ...    ...   ...   ...   ...        ...      ...   \n599995  599995    0.0    1.0    0.0     T     N   Red    Polygon  Axolotl   \n599996  599996    1.0    0.0    0.0     T     Y  Blue    Polygon      Dog   \n599997  599997    0.0    0.0    0.0     F     Y   Red     Circle  Axolotl   \n599998  599998    1.0    1.0    0.0     F     Y   NaN    Polygon  Axolotl   \n599999  599999    0.0    0.0    0.0     T     N  Blue   Triangle      Dog   \n\n             nom_3  ...      nom_9 ord_0        ord_1        ord_2 ord_3  \\\n0           Russia  ...  02e7c8990   3.0  Contributor          Hot     c   \n1              NaN  ...  f37df64af   3.0  Grandmaster         Warm     e   \n2           Canada  ...        NaN   3.0          NaN     Freezing     n   \n3          Finland  ...  f9d456e57   1.0       Novice     Lava Hot     a   \n4       Costa Rica  ...  c5361037c   3.0  Grandmaster         Cold     h   \n...            ...  ...        ...   ...          ...          ...   ...   \n599995       India  ...  015c63324   3.0       Novice     Freezing     a   \n599996  Costa Rica  ...  a02ae6a63   2.0       Novice  Boiling Hot     n   \n599997      Russia  ...  40f9610c1   2.0  Contributor     Freezing     n   \n599998         NaN  ...  c1a8374a0   1.0       Master         Warm     m   \n599999      Russia  ...  e2aea7784   1.0  Contributor  Boiling Hot     b   \n\n       ord_4  ord_5  day month target  \n0          U     Pw  6.0   3.0      0  \n1          X     pE  7.0   7.0      0  \n2          P     eN  5.0   9.0      0  \n3          C    NaN  3.0   3.0      0  \n4          C     OZ  5.0  12.0      0  \n...      ...    ...  ...   ...    ...  \n599995     R     GZ  5.0   NaN      0  \n599996     N     sf  NaN   3.0      0  \n599997     H     MV  7.0   5.0      0  \n599998     X     Ey  1.0   5.0      0  \n599999     O     uI  5.0   8.0      0  \n\n[600000 rows x 25 columns]>"
     },
     "execution_count": 1,
     "metadata": {},
     "output_type": "execute_result"
    }
   ],
   "source": [
    "import pandas as pd\n",
    "\n",
    "data_train = pd.read_csv(\"data/cat_train.csv\")\n",
    "data_train.info"
   ]
  },
  {
   "cell_type": "code",
   "outputs": [
    {
     "data": {
      "text/plain": "   id  bin_0  bin_1  bin_2 bin_3 bin_4 nom_0      nom_1    nom_2       nom_3  \\\n0   0    0.0    0.0    0.0     F     N   Red  Trapezoid  Hamster      Russia   \n1   1    1.0    1.0    0.0     F     Y   Red       Star  Axolotl         NaN   \n2   2    0.0    1.0    0.0     F     N   Red        NaN  Hamster      Canada   \n3   3    NaN    0.0    0.0     F     N   Red     Circle  Hamster     Finland   \n4   4    0.0    NaN    0.0     T     N   Red   Triangle  Hamster  Costa Rica   \n\n   ...      nom_9 ord_0        ord_1     ord_2 ord_3 ord_4  ord_5  day month  \\\n0  ...  02e7c8990   3.0  Contributor       Hot     c     U     Pw  6.0   3.0   \n1  ...  f37df64af   3.0  Grandmaster      Warm     e     X     pE  7.0   7.0   \n2  ...        NaN   3.0          NaN  Freezing     n     P     eN  5.0   9.0   \n3  ...  f9d456e57   1.0       Novice  Lava Hot     a     C    NaN  3.0   3.0   \n4  ...  c5361037c   3.0  Grandmaster      Cold     h     C     OZ  5.0  12.0   \n\n  target  \n0      0  \n1      0  \n2      0  \n3      0  \n4      0  \n\n[5 rows x 25 columns]",
      "text/html": "<div>\n<style scoped>\n    .dataframe tbody tr th:only-of-type {\n        vertical-align: middle;\n    }\n\n    .dataframe tbody tr th {\n        vertical-align: top;\n    }\n\n    .dataframe thead th {\n        text-align: right;\n    }\n</style>\n<table border=\"1\" class=\"dataframe\">\n  <thead>\n    <tr style=\"text-align: right;\">\n      <th></th>\n      <th>id</th>\n      <th>bin_0</th>\n      <th>bin_1</th>\n      <th>bin_2</th>\n      <th>bin_3</th>\n      <th>bin_4</th>\n      <th>nom_0</th>\n      <th>nom_1</th>\n      <th>nom_2</th>\n      <th>nom_3</th>\n      <th>...</th>\n      <th>nom_9</th>\n      <th>ord_0</th>\n      <th>ord_1</th>\n      <th>ord_2</th>\n      <th>ord_3</th>\n      <th>ord_4</th>\n      <th>ord_5</th>\n      <th>day</th>\n      <th>month</th>\n      <th>target</th>\n    </tr>\n  </thead>\n  <tbody>\n    <tr>\n      <th>0</th>\n      <td>0</td>\n      <td>0.0</td>\n      <td>0.0</td>\n      <td>0.0</td>\n      <td>F</td>\n      <td>N</td>\n      <td>Red</td>\n      <td>Trapezoid</td>\n      <td>Hamster</td>\n      <td>Russia</td>\n      <td>...</td>\n      <td>02e7c8990</td>\n      <td>3.0</td>\n      <td>Contributor</td>\n      <td>Hot</td>\n      <td>c</td>\n      <td>U</td>\n      <td>Pw</td>\n      <td>6.0</td>\n      <td>3.0</td>\n      <td>0</td>\n    </tr>\n    <tr>\n      <th>1</th>\n      <td>1</td>\n      <td>1.0</td>\n      <td>1.0</td>\n      <td>0.0</td>\n      <td>F</td>\n      <td>Y</td>\n      <td>Red</td>\n      <td>Star</td>\n      <td>Axolotl</td>\n      <td>NaN</td>\n      <td>...</td>\n      <td>f37df64af</td>\n      <td>3.0</td>\n      <td>Grandmaster</td>\n      <td>Warm</td>\n      <td>e</td>\n      <td>X</td>\n      <td>pE</td>\n      <td>7.0</td>\n      <td>7.0</td>\n      <td>0</td>\n    </tr>\n    <tr>\n      <th>2</th>\n      <td>2</td>\n      <td>0.0</td>\n      <td>1.0</td>\n      <td>0.0</td>\n      <td>F</td>\n      <td>N</td>\n      <td>Red</td>\n      <td>NaN</td>\n      <td>Hamster</td>\n      <td>Canada</td>\n      <td>...</td>\n      <td>NaN</td>\n      <td>3.0</td>\n      <td>NaN</td>\n      <td>Freezing</td>\n      <td>n</td>\n      <td>P</td>\n      <td>eN</td>\n      <td>5.0</td>\n      <td>9.0</td>\n      <td>0</td>\n    </tr>\n    <tr>\n      <th>3</th>\n      <td>3</td>\n      <td>NaN</td>\n      <td>0.0</td>\n      <td>0.0</td>\n      <td>F</td>\n      <td>N</td>\n      <td>Red</td>\n      <td>Circle</td>\n      <td>Hamster</td>\n      <td>Finland</td>\n      <td>...</td>\n      <td>f9d456e57</td>\n      <td>1.0</td>\n      <td>Novice</td>\n      <td>Lava Hot</td>\n      <td>a</td>\n      <td>C</td>\n      <td>NaN</td>\n      <td>3.0</td>\n      <td>3.0</td>\n      <td>0</td>\n    </tr>\n    <tr>\n      <th>4</th>\n      <td>4</td>\n      <td>0.0</td>\n      <td>NaN</td>\n      <td>0.0</td>\n      <td>T</td>\n      <td>N</td>\n      <td>Red</td>\n      <td>Triangle</td>\n      <td>Hamster</td>\n      <td>Costa Rica</td>\n      <td>...</td>\n      <td>c5361037c</td>\n      <td>3.0</td>\n      <td>Grandmaster</td>\n      <td>Cold</td>\n      <td>h</td>\n      <td>C</td>\n      <td>OZ</td>\n      <td>5.0</td>\n      <td>12.0</td>\n      <td>0</td>\n    </tr>\n  </tbody>\n</table>\n<p>5 rows × 25 columns</p>\n</div>"
     },
     "execution_count": 2,
     "metadata": {},
     "output_type": "execute_result"
    }
   ],
   "source": [
    "data_train.head()"
   ],
   "metadata": {
    "collapsed": false,
    "ExecuteTime": {
     "end_time": "2024-03-01T11:00:06.530656600Z",
     "start_time": "2024-03-01T11:00:06.473720600Z"
    }
   },
   "id": "878f521392c91100",
   "execution_count": 2
  },
  {
   "cell_type": "code",
   "outputs": [
    {
     "data": {
      "text/plain": "ord_2\nFreezing       142726\nWarm           124239\nCold            97822\nBoiling Hot     84790\nHot             67508\nLava Hot        64840\nName: count, dtype: int64"
     },
     "execution_count": 3,
     "metadata": {},
     "output_type": "execute_result"
    }
   ],
   "source": [
    "data_train.ord_2.value_counts()"
   ],
   "metadata": {
    "collapsed": false,
    "ExecuteTime": {
     "end_time": "2024-03-01T11:03:16.726533600Z",
     "start_time": "2024-03-01T11:03:16.681186300Z"
    }
   },
   "id": "cc6d8a441b29daf6",
   "execution_count": 3
  },
  {
   "cell_type": "code",
   "outputs": [
    {
     "data": {
      "text/plain": "ord_2\n0.0    142726\n1.0    124239\n2.0     97822\n3.0     84790\n4.0     67508\n5.0     64840\nName: count, dtype: int64"
     },
     "execution_count": 4,
     "metadata": {},
     "output_type": "execute_result"
    }
   ],
   "source": [
    "mapping = {\n",
    "    \"Freezing\": 0,\n",
    "    \"Warm\": 1,\n",
    "    \"Cold\": 2,\n",
    "    \"Boiling Hot\": 3,\n",
    "    \"Hot\": 4,\n",
    "    \"Lava Hot\": 5\n",
    "}\n",
    "data_train.loc[:, \"ord_2\"] = data_train.ord_2.map(mapping)\n",
    "data_train.ord_2.value_counts()"
   ],
   "metadata": {
    "collapsed": false,
    "ExecuteTime": {
     "end_time": "2024-03-01T11:03:35.527294100Z",
     "start_time": "2024-03-01T11:03:35.427147100Z"
    }
   },
   "id": "3f355b6e2de30142",
   "execution_count": 4
  },
  {
   "cell_type": "code",
   "outputs": [
    {
     "data": {
      "text/plain": "ord_2\n2    142726\n6    124239\n1     97822\n0     84790\n3     67508\n4     64840\n5     18075\nName: count, dtype: int64"
     },
     "execution_count": 5,
     "metadata": {},
     "output_type": "execute_result"
    }
   ],
   "source": [
    "from sklearn.preprocessing import LabelEncoder\n",
    "data_train = pd.read_csv(\"data/cat_train.csv\")\n",
    "data_train.loc[:, \"ord_2\"] = data_train.ord_2.fillna(\"NONE\")\n",
    "\n",
    "lbl_enc = LabelEncoder()\n",
    "\n",
    "data_train.loc[:, \"ord_2\"] = lbl_enc.fit_transform(data_train.ord_2.values)\n",
    "data_train.ord_2.value_counts()"
   ],
   "metadata": {
    "collapsed": false,
    "ExecuteTime": {
     "end_time": "2024-03-01T11:06:15.498699300Z",
     "start_time": "2024-03-01T11:06:11.276606300Z"
    }
   },
   "id": "9c6f6050090d595c",
   "execution_count": 5
  },
  {
   "cell_type": "code",
   "outputs": [
    {
     "data": {
      "text/plain": "(array([1, 1, 1, 1], dtype=int32),\n 16,\n array([2, 0, 0, 2]),\n array([0, 1, 2, 4]),\n (3, 3))"
     },
     "execution_count": 7,
     "metadata": {},
     "output_type": "execute_result"
    }
   ],
   "source": [
    "import numpy as np\n",
    "from scipy import sparse\n",
    "\n",
    "example = np.array([\n",
    "    [0, 0, 1],\n",
    "    [1, 0, 0],\n",
    "    [1, 0, 1]\n",
    "])\n",
    "\n",
    "sparse_example = sparse.csr_matrix(example)\n",
    "sparse_example.data, sparse_example.data.nbytes, sparse_example.indices, sparse_example.indptr, sparse_example.shape"
   ],
   "metadata": {
    "collapsed": false,
    "ExecuteTime": {
     "end_time": "2024-03-01T11:17:21.484727800Z",
     "start_time": "2024-03-01T11:17:21.467322300Z"
    }
   },
   "id": "2b216343f5fc1b0d",
   "execution_count": 7
  },
  {
   "cell_type": "code",
   "outputs": [],
   "source": [],
   "metadata": {
    "collapsed": false
   },
   "id": "713a0c2f06751a78"
  }
 ],
 "metadata": {
  "kernelspec": {
   "display_name": "Python 3",
   "language": "python",
   "name": "python3"
  },
  "language_info": {
   "codemirror_mode": {
    "name": "ipython",
    "version": 2
   },
   "file_extension": ".py",
   "mimetype": "text/x-python",
   "name": "python",
   "nbconvert_exporter": "python",
   "pygments_lexer": "ipython2",
   "version": "2.7.6"
  }
 },
 "nbformat": 4,
 "nbformat_minor": 5
}
