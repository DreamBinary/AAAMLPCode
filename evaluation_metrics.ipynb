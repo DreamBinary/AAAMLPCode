{
 "cells": [
  {
   "cell_type": "code",
   "execution_count": 1,
   "id": "initial_id",
   "metadata": {
    "collapsed": true,
    "ExecuteTime": {
     "end_time": "2024-02-28T07:40:32.032239700Z",
     "start_time": "2024-02-28T07:40:31.336345Z"
    }
   },
   "outputs": [],
   "source": [
    "from sklearn import metrics"
   ]
  },
  {
   "cell_type": "code",
   "outputs": [
    {
     "data": {
      "text/plain": "['ConfusionMatrixDisplay',\n 'DetCurveDisplay',\n 'DistanceMetric',\n 'PrecisionRecallDisplay',\n 'PredictionErrorDisplay',\n 'RocCurveDisplay',\n '__all__',\n '__builtins__',\n '__cached__',\n '__doc__',\n '__file__',\n '__loader__',\n '__name__',\n '__package__',\n '__path__',\n '__spec__',\n '_base',\n '_classification',\n '_dist_metrics',\n '_pairwise_distances_reduction',\n '_pairwise_fast',\n '_plot',\n '_ranking',\n '_regression',\n '_scorer',\n 'accuracy_score',\n 'adjusted_mutual_info_score',\n 'adjusted_rand_score',\n 'auc',\n 'average_precision_score',\n 'balanced_accuracy_score',\n 'brier_score_loss',\n 'calinski_harabasz_score',\n 'check_scoring',\n 'class_likelihood_ratios',\n 'classification_report',\n 'cluster',\n 'cohen_kappa_score',\n 'completeness_score',\n 'confusion_matrix',\n 'consensus_score',\n 'coverage_error',\n 'd2_absolute_error_score',\n 'd2_pinball_score',\n 'd2_tweedie_score',\n 'davies_bouldin_score',\n 'dcg_score',\n 'det_curve',\n 'euclidean_distances',\n 'explained_variance_score',\n 'f1_score',\n 'fbeta_score',\n 'fowlkes_mallows_score',\n 'get_scorer',\n 'get_scorer_names',\n 'hamming_loss',\n 'hinge_loss',\n 'homogeneity_completeness_v_measure',\n 'homogeneity_score',\n 'jaccard_score',\n 'label_ranking_average_precision_score',\n 'label_ranking_loss',\n 'log_loss',\n 'make_scorer',\n 'matthews_corrcoef',\n 'max_error',\n 'mean_absolute_error',\n 'mean_absolute_percentage_error',\n 'mean_gamma_deviance',\n 'mean_pinball_loss',\n 'mean_poisson_deviance',\n 'mean_squared_error',\n 'mean_squared_log_error',\n 'mean_tweedie_deviance',\n 'median_absolute_error',\n 'multilabel_confusion_matrix',\n 'mutual_info_score',\n 'nan_euclidean_distances',\n 'ndcg_score',\n 'normalized_mutual_info_score',\n 'pair_confusion_matrix',\n 'pairwise',\n 'pairwise_distances',\n 'pairwise_distances_argmin',\n 'pairwise_distances_argmin_min',\n 'pairwise_distances_chunked',\n 'pairwise_kernels',\n 'precision_recall_curve',\n 'precision_recall_fscore_support',\n 'precision_score',\n 'r2_score',\n 'rand_score',\n 'recall_score',\n 'roc_auc_score',\n 'roc_curve',\n 'root_mean_squared_error',\n 'root_mean_squared_log_error',\n 'silhouette_samples',\n 'silhouette_score',\n 'top_k_accuracy_score',\n 'v_measure_score',\n 'zero_one_loss']"
     },
     "execution_count": 4,
     "metadata": {},
     "output_type": "execute_result"
    }
   ],
   "source": [
    "dir(metrics)"
   ],
   "metadata": {
    "collapsed": false,
    "ExecuteTime": {
     "end_time": "2024-02-28T07:40:50.945274500Z",
     "start_time": "2024-02-28T07:40:50.901505300Z"
    }
   },
   "id": "755e5317533c52d8",
   "execution_count": 4
  },
  {
   "cell_type": "code",
   "outputs": [],
   "source": [
    "metrics.f1_score"
   ],
   "metadata": {
    "collapsed": false
   },
   "id": "130c813a3418eddf"
  }
 ],
 "metadata": {
  "kernelspec": {
   "display_name": "Python 3",
   "language": "python",
   "name": "python3"
  },
  "language_info": {
   "codemirror_mode": {
    "name": "ipython",
    "version": 2
   },
   "file_extension": ".py",
   "mimetype": "text/x-python",
   "name": "python",
   "nbconvert_exporter": "python",
   "pygments_lexer": "ipython2",
   "version": "2.7.6"
  }
 },
 "nbformat": 4,
 "nbformat_minor": 5
}
