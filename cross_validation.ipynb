{
 "cells": [
  {
   "cell_type": "code",
   "execution_count": 1,
   "id": "initial_id",
   "metadata": {
    "collapsed": true,
    "ExecuteTime": {
     "end_time": "2024-02-27T08:32:52.375866Z",
     "start_time": "2024-02-27T08:32:52.358807600Z"
    }
   },
   "outputs": [
    {
     "data": {
      "text/plain": "'\\ncross validation is a technique to evaluate predictive models by partitioning the original sample into a training set to train the model, and a test set to evaluate it.\\n'"
     },
     "execution_count": 1,
     "metadata": {},
     "output_type": "execute_result"
    }
   ],
   "source": [
    "\"\"\"\n",
    "cross validation is a technique to evaluate predictive models by partitioning the original sample into a training set to train the model, and a test set to evaluate it.\n",
    "\"\"\""
   ]
  },
  {
   "cell_type": "code",
   "outputs": [],
   "source": [
    "import pandas as pd\n",
    "\n",
    "df = pd.read_csv(\"data/winequality-red.csv\")"
   ],
   "metadata": {
    "collapsed": false,
    "ExecuteTime": {
     "end_time": "2024-02-27T08:33:08.844389500Z",
     "start_time": "2024-02-27T08:33:08.816873700Z"
    }
   },
   "id": "76d38721ebf3a4db",
   "execution_count": 2
  },
  {
   "cell_type": "code",
   "outputs": [
    {
     "data": {
      "text/plain": "   fixed acidity  volatile acidity  citric acid  residual sugar  chlorides  \\\n0            7.4              0.70         0.00             1.9      0.076   \n1            7.8              0.88         0.00             2.6      0.098   \n2            7.8              0.76         0.04             2.3      0.092   \n3           11.2              0.28         0.56             1.9      0.075   \n4            7.4              0.70         0.00             1.9      0.076   \n\n   free sulfur dioxide  total sulfur dioxide  density    pH  sulphates  \\\n0                 11.0                  34.0   0.9978  3.51       0.56   \n1                 25.0                  67.0   0.9968  3.20       0.68   \n2                 15.0                  54.0   0.9970  3.26       0.65   \n3                 17.0                  60.0   0.9980  3.16       0.58   \n4                 11.0                  34.0   0.9978  3.51       0.56   \n\n   alcohol  quality  \n0      9.4        5  \n1      9.8        5  \n2      9.8        5  \n3      9.8        6  \n4      9.4        5  ",
      "text/html": "<div>\n<style scoped>\n    .dataframe tbody tr th:only-of-type {\n        vertical-align: middle;\n    }\n\n    .dataframe tbody tr th {\n        vertical-align: top;\n    }\n\n    .dataframe thead th {\n        text-align: right;\n    }\n</style>\n<table border=\"1\" class=\"dataframe\">\n  <thead>\n    <tr style=\"text-align: right;\">\n      <th></th>\n      <th>fixed acidity</th>\n      <th>volatile acidity</th>\n      <th>citric acid</th>\n      <th>residual sugar</th>\n      <th>chlorides</th>\n      <th>free sulfur dioxide</th>\n      <th>total sulfur dioxide</th>\n      <th>density</th>\n      <th>pH</th>\n      <th>sulphates</th>\n      <th>alcohol</th>\n      <th>quality</th>\n    </tr>\n  </thead>\n  <tbody>\n    <tr>\n      <th>0</th>\n      <td>7.4</td>\n      <td>0.70</td>\n      <td>0.00</td>\n      <td>1.9</td>\n      <td>0.076</td>\n      <td>11.0</td>\n      <td>34.0</td>\n      <td>0.9978</td>\n      <td>3.51</td>\n      <td>0.56</td>\n      <td>9.4</td>\n      <td>5</td>\n    </tr>\n    <tr>\n      <th>1</th>\n      <td>7.8</td>\n      <td>0.88</td>\n      <td>0.00</td>\n      <td>2.6</td>\n      <td>0.098</td>\n      <td>25.0</td>\n      <td>67.0</td>\n      <td>0.9968</td>\n      <td>3.20</td>\n      <td>0.68</td>\n      <td>9.8</td>\n      <td>5</td>\n    </tr>\n    <tr>\n      <th>2</th>\n      <td>7.8</td>\n      <td>0.76</td>\n      <td>0.04</td>\n      <td>2.3</td>\n      <td>0.092</td>\n      <td>15.0</td>\n      <td>54.0</td>\n      <td>0.9970</td>\n      <td>3.26</td>\n      <td>0.65</td>\n      <td>9.8</td>\n      <td>5</td>\n    </tr>\n    <tr>\n      <th>3</th>\n      <td>11.2</td>\n      <td>0.28</td>\n      <td>0.56</td>\n      <td>1.9</td>\n      <td>0.075</td>\n      <td>17.0</td>\n      <td>60.0</td>\n      <td>0.9980</td>\n      <td>3.16</td>\n      <td>0.58</td>\n      <td>9.8</td>\n      <td>6</td>\n    </tr>\n    <tr>\n      <th>4</th>\n      <td>7.4</td>\n      <td>0.70</td>\n      <td>0.00</td>\n      <td>1.9</td>\n      <td>0.076</td>\n      <td>11.0</td>\n      <td>34.0</td>\n      <td>0.9978</td>\n      <td>3.51</td>\n      <td>0.56</td>\n      <td>9.4</td>\n      <td>5</td>\n    </tr>\n  </tbody>\n</table>\n</div>"
     },
     "execution_count": 3,
     "metadata": {},
     "output_type": "execute_result"
    }
   ],
   "source": [
    "df.head()"
   ],
   "metadata": {
    "collapsed": false,
    "ExecuteTime": {
     "end_time": "2024-02-27T08:33:10.842200800Z",
     "start_time": "2024-02-27T08:33:10.818270500Z"
    }
   },
   "id": "5d1397e4d7a26b69",
   "execution_count": 3
  },
  {
   "cell_type": "code",
   "outputs": [
    {
     "data": {
      "text/plain": "Index(['fixed acidity', 'volatile acidity', 'citric acid', 'residual sugar',\n       'chlorides', 'free sulfur dioxide', 'total sulfur dioxide', 'density',\n       'pH', 'sulphates', 'alcohol', 'quality'],\n      dtype='object')"
     },
     "execution_count": 6,
     "metadata": {},
     "output_type": "execute_result"
    }
   ],
   "source": [
    "# title of columns\n",
    "df.columns"
   ],
   "metadata": {
    "collapsed": false,
    "ExecuteTime": {
     "end_time": "2024-02-27T08:34:18.352359700Z",
     "start_time": "2024-02-27T08:34:18.330946Z"
    }
   },
   "id": "2e9c1010a414fe6e",
   "execution_count": 6
  },
  {
   "cell_type": "code",
   "outputs": [
    {
     "data": {
      "text/plain": "quality\n5    681\n6    638\n7    199\n4     53\n8     18\n3     10\nName: count, dtype: int64"
     },
     "execution_count": 7,
     "metadata": {},
     "output_type": "execute_result"
    }
   ],
   "source": [
    "df[\"quality\"].value_counts()"
   ],
   "metadata": {
    "collapsed": false,
    "ExecuteTime": {
     "end_time": "2024-02-27T08:35:20.638892300Z",
     "start_time": "2024-02-27T08:35:20.607787100Z"
    }
   },
   "id": "45428f271873013b",
   "execution_count": 7
  },
  {
   "cell_type": "code",
   "outputs": [],
   "source": [
    "quality_mapping = {\n",
    "    3: 0,\n",
    "    4: 1,\n",
    "    5: 2,\n",
    "    6: 3,\n",
    "    7: 4,\n",
    "    8: 5\n",
    "}\n",
    "\n",
    "df.loc[:, \"quality\"] = df.quality.map(quality_mapping)"
   ],
   "metadata": {
    "collapsed": false,
    "ExecuteTime": {
     "end_time": "2024-02-27T08:36:03.367180700Z",
     "start_time": "2024-02-27T08:36:03.329952500Z"
    }
   },
   "id": "e2deacb94f2c6859",
   "execution_count": 8
  },
  {
   "cell_type": "code",
   "outputs": [
    {
     "data": {
      "text/plain": "quality\n2    681\n3    638\n4    199\n1     53\n5     18\n0     10\nName: count, dtype: int64"
     },
     "execution_count": 11,
     "metadata": {},
     "output_type": "execute_result"
    }
   ],
   "source": [
    "df[\"quality\"].value_counts()"
   ],
   "metadata": {
    "collapsed": false,
    "ExecuteTime": {
     "end_time": "2024-02-27T08:38:22.507537700Z",
     "start_time": "2024-02-27T08:38:22.488992900Z"
    }
   },
   "id": "e3e3fdeb63ed6437",
   "execution_count": 11
  },
  {
   "cell_type": "code",
   "outputs": [
    {
     "data": {
      "text/plain": "fixed acidity           1599\nvolatile acidity        1599\ncitric acid             1599\nresidual sugar          1599\nchlorides               1599\nfree sulfur dioxide     1599\ntotal sulfur dioxide    1599\ndensity                 1599\npH                      1599\nsulphates               1599\nalcohol                 1599\nquality                 1599\ndtype: int64"
     },
     "execution_count": 12,
     "metadata": {},
     "output_type": "execute_result"
    }
   ],
   "source": [
    "df.count()"
   ],
   "metadata": {
    "collapsed": false,
    "ExecuteTime": {
     "end_time": "2024-02-27T08:39:05.590080900Z",
     "start_time": "2024-02-27T08:39:05.537456600Z"
    }
   },
   "id": "b91368ac432484be",
   "execution_count": 12
  },
  {
   "cell_type": "code",
   "outputs": [
    {
     "data": {
      "text/plain": "   fixed acidity  volatile acidity  citric acid  residual sugar  chlorides  \\\n0            8.0             0.705         0.05            1.90      0.074   \n1           11.2             0.670         0.55            2.30      0.084   \n2            9.1             0.290         0.33            2.05      0.063   \n3            7.9             0.300         0.68            8.30      0.050   \n4           10.3             0.530         0.48            2.50      0.063   \n\n   free sulfur dioxide  total sulfur dioxide  density    pH  sulphates  \\\n0                  8.0                  19.0  0.99620  3.34       0.95   \n1                  6.0                  13.0  1.00000  3.17       0.71   \n2                 13.0                  27.0  0.99516  3.26       0.84   \n3                 37.5                 278.0  0.99316  3.01       0.51   \n4                  6.0                  25.0  0.99980  3.12       0.59   \n\n   alcohol  quality  \n0     10.5        3  \n1      9.5        3  \n2     11.7        4  \n3     12.3        4  \n4      9.3        3  ",
      "text/html": "<div>\n<style scoped>\n    .dataframe tbody tr th:only-of-type {\n        vertical-align: middle;\n    }\n\n    .dataframe tbody tr th {\n        vertical-align: top;\n    }\n\n    .dataframe thead th {\n        text-align: right;\n    }\n</style>\n<table border=\"1\" class=\"dataframe\">\n  <thead>\n    <tr style=\"text-align: right;\">\n      <th></th>\n      <th>fixed acidity</th>\n      <th>volatile acidity</th>\n      <th>citric acid</th>\n      <th>residual sugar</th>\n      <th>chlorides</th>\n      <th>free sulfur dioxide</th>\n      <th>total sulfur dioxide</th>\n      <th>density</th>\n      <th>pH</th>\n      <th>sulphates</th>\n      <th>alcohol</th>\n      <th>quality</th>\n    </tr>\n  </thead>\n  <tbody>\n    <tr>\n      <th>0</th>\n      <td>8.0</td>\n      <td>0.705</td>\n      <td>0.05</td>\n      <td>1.90</td>\n      <td>0.074</td>\n      <td>8.0</td>\n      <td>19.0</td>\n      <td>0.99620</td>\n      <td>3.34</td>\n      <td>0.95</td>\n      <td>10.5</td>\n      <td>3</td>\n    </tr>\n    <tr>\n      <th>1</th>\n      <td>11.2</td>\n      <td>0.670</td>\n      <td>0.55</td>\n      <td>2.30</td>\n      <td>0.084</td>\n      <td>6.0</td>\n      <td>13.0</td>\n      <td>1.00000</td>\n      <td>3.17</td>\n      <td>0.71</td>\n      <td>9.5</td>\n      <td>3</td>\n    </tr>\n    <tr>\n      <th>2</th>\n      <td>9.1</td>\n      <td>0.290</td>\n      <td>0.33</td>\n      <td>2.05</td>\n      <td>0.063</td>\n      <td>13.0</td>\n      <td>27.0</td>\n      <td>0.99516</td>\n      <td>3.26</td>\n      <td>0.84</td>\n      <td>11.7</td>\n      <td>4</td>\n    </tr>\n    <tr>\n      <th>3</th>\n      <td>7.9</td>\n      <td>0.300</td>\n      <td>0.68</td>\n      <td>8.30</td>\n      <td>0.050</td>\n      <td>37.5</td>\n      <td>278.0</td>\n      <td>0.99316</td>\n      <td>3.01</td>\n      <td>0.51</td>\n      <td>12.3</td>\n      <td>4</td>\n    </tr>\n    <tr>\n      <th>4</th>\n      <td>10.3</td>\n      <td>0.530</td>\n      <td>0.48</td>\n      <td>2.50</td>\n      <td>0.063</td>\n      <td>6.0</td>\n      <td>25.0</td>\n      <td>0.99980</td>\n      <td>3.12</td>\n      <td>0.59</td>\n      <td>9.3</td>\n      <td>3</td>\n    </tr>\n  </tbody>\n</table>\n</div>"
     },
     "execution_count": 13,
     "metadata": {},
     "output_type": "execute_result"
    }
   ],
   "source": [
    "df = df.sample(frac=1).reset_index(drop=True)\n",
    "# frac=1 means return all rows\n",
    "df.head()"
   ],
   "metadata": {
    "collapsed": false,
    "ExecuteTime": {
     "end_time": "2024-02-27T08:42:28.452156800Z",
     "start_time": "2024-02-27T08:42:28.417677600Z"
    }
   },
   "id": "e181436cdac684a4",
   "execution_count": 13
  },
  {
   "cell_type": "code",
   "outputs": [
    {
     "name": "stdout",
     "output_type": "stream",
     "text": [
      "<class 'pandas.core.frame.DataFrame'>\n",
      "RangeIndex: 1599 entries, 0 to 1598\n",
      "Data columns (total 12 columns):\n",
      " #   Column                Non-Null Count  Dtype  \n",
      "---  ------                --------------  -----  \n",
      " 0   fixed acidity         1599 non-null   float64\n",
      " 1   volatile acidity      1599 non-null   float64\n",
      " 2   citric acid           1599 non-null   float64\n",
      " 3   residual sugar        1599 non-null   float64\n",
      " 4   chlorides             1599 non-null   float64\n",
      " 5   free sulfur dioxide   1599 non-null   float64\n",
      " 6   total sulfur dioxide  1599 non-null   float64\n",
      " 7   density               1599 non-null   float64\n",
      " 8   pH                    1599 non-null   float64\n",
      " 9   sulphates             1599 non-null   float64\n",
      " 10  alcohol               1599 non-null   float64\n",
      " 11  quality               1599 non-null   int64  \n",
      "dtypes: float64(11), int64(1)\n",
      "memory usage: 150.0 KB\n"
     ]
    }
   ],
   "source": [
    "df.info()"
   ],
   "metadata": {
    "collapsed": false,
    "ExecuteTime": {
     "end_time": "2024-02-27T08:42:43.760337800Z",
     "start_time": "2024-02-27T08:42:43.717943900Z"
    }
   },
   "id": "9adff6f7098773b4",
   "execution_count": 14
  },
  {
   "cell_type": "code",
   "outputs": [
    {
     "data": {
      "text/plain": "RangeIndex(start=0, stop=1599, step=1)"
     },
     "execution_count": 15,
     "metadata": {},
     "output_type": "execute_result"
    }
   ],
   "source": [
    "df.index"
   ],
   "metadata": {
    "collapsed": false,
    "ExecuteTime": {
     "end_time": "2024-02-27T08:42:57.300462400Z",
     "start_time": "2024-02-27T08:42:57.259170500Z"
    }
   },
   "id": "9ee3b7aa3ec4d397",
   "execution_count": 15
  },
  {
   "cell_type": "code",
   "outputs": [],
   "source": [
    "df_train = df.head(1000)\n",
    "df_test = df.tail(599)"
   ],
   "metadata": {
    "collapsed": false,
    "ExecuteTime": {
     "end_time": "2024-02-27T08:43:37.660345400Z",
     "start_time": "2024-02-27T08:43:37.643740200Z"
    }
   },
   "id": "6068b45acf75fee4",
   "execution_count": 16
  },
  {
   "cell_type": "code",
   "outputs": [],
   "source": [
    "from sklearn import tree\n",
    "from sklearn import metrics\n",
    "\n",
    "clf = tree.DecisionTreeClassifier(max_depth=3)"
   ],
   "metadata": {
    "collapsed": false,
    "ExecuteTime": {
     "end_time": "2024-02-27T08:44:27.815744Z",
     "start_time": "2024-02-27T08:44:26.595980300Z"
    }
   },
   "id": "c6b17585edd8cd33",
   "execution_count": 17
  },
  {
   "cell_type": "code",
   "outputs": [
    {
     "data": {
      "text/plain": "Index(['fixed acidity', 'volatile acidity', 'citric acid', 'residual sugar',\n       'chlorides', 'free sulfur dioxide', 'total sulfur dioxide', 'density',\n       'pH', 'sulphates', 'alcohol'],\n      dtype='object')"
     },
     "execution_count": 18,
     "metadata": {},
     "output_type": "execute_result"
    }
   ],
   "source": [
    "df.columns[:-1]"
   ],
   "metadata": {
    "collapsed": false,
    "ExecuteTime": {
     "end_time": "2024-02-27T08:44:37.148793300Z",
     "start_time": "2024-02-27T08:44:37.089205600Z"
    }
   },
   "id": "ffd777b8aa1eaaee",
   "execution_count": 18
  },
  {
   "cell_type": "code",
   "outputs": [
    {
     "data": {
      "text/plain": "Index(['fixed acidity', 'volatile acidity', 'citric acid', 'residual sugar',\n       'chlorides', 'free sulfur dioxide', 'total sulfur dioxide', 'density',\n       'pH', 'sulphates', 'alcohol'],\n      dtype='object')"
     },
     "execution_count": 20,
     "metadata": {},
     "output_type": "execute_result"
    }
   ],
   "source": [
    "cols = df.columns[:-1]\n",
    "cols"
   ],
   "metadata": {
    "collapsed": false,
    "ExecuteTime": {
     "end_time": "2024-02-27T08:44:58.636822100Z",
     "start_time": "2024-02-27T08:44:58.620106100Z"
    }
   },
   "id": "30aa1ef3cd020265",
   "execution_count": 20
  },
  {
   "cell_type": "code",
   "outputs": [
    {
     "data": {
      "text/plain": "Index(['fixed acidity', 'volatile acidity', 'citric acid', 'residual sugar',\n       'chlorides', 'free sulfur dioxide', 'total sulfur dioxide', 'density',\n       'pH', 'sulphates', 'alcohol', 'quality'],\n      dtype='object')"
     },
     "execution_count": 21,
     "metadata": {},
     "output_type": "execute_result"
    }
   ],
   "source": [
    "df.columns"
   ],
   "metadata": {
    "collapsed": false,
    "ExecuteTime": {
     "end_time": "2024-02-27T08:45:29.276759800Z",
     "start_time": "2024-02-27T08:45:29.227481600Z"
    }
   },
   "id": "92f5ca5af72a6b81",
   "execution_count": 21
  },
  {
   "cell_type": "code",
   "outputs": [
    {
     "data": {
      "text/plain": "DecisionTreeClassifier(max_depth=3)",
      "text/html": "<style>#sk-container-id-1 {\n  /* Definition of color scheme common for light and dark mode */\n  --sklearn-color-text: black;\n  --sklearn-color-line: gray;\n  /* Definition of color scheme for unfitted estimators */\n  --sklearn-color-unfitted-level-0: #fff5e6;\n  --sklearn-color-unfitted-level-1: #f6e4d2;\n  --sklearn-color-unfitted-level-2: #ffe0b3;\n  --sklearn-color-unfitted-level-3: chocolate;\n  /* Definition of color scheme for fitted estimators */\n  --sklearn-color-fitted-level-0: #f0f8ff;\n  --sklearn-color-fitted-level-1: #d4ebff;\n  --sklearn-color-fitted-level-2: #b3dbfd;\n  --sklearn-color-fitted-level-3: cornflowerblue;\n\n  /* Specific color for light theme */\n  --sklearn-color-text-on-default-background: var(--sg-text-color, var(--theme-code-foreground, var(--jp-content-font-color1, black)));\n  --sklearn-color-background: var(--sg-background-color, var(--theme-background, var(--jp-layout-color0, white)));\n  --sklearn-color-border-box: var(--sg-text-color, var(--theme-code-foreground, var(--jp-content-font-color1, black)));\n  --sklearn-color-icon: #696969;\n\n  @media (prefers-color-scheme: dark) {\n    /* Redefinition of color scheme for dark theme */\n    --sklearn-color-text-on-default-background: var(--sg-text-color, var(--theme-code-foreground, var(--jp-content-font-color1, white)));\n    --sklearn-color-background: var(--sg-background-color, var(--theme-background, var(--jp-layout-color0, #111)));\n    --sklearn-color-border-box: var(--sg-text-color, var(--theme-code-foreground, var(--jp-content-font-color1, white)));\n    --sklearn-color-icon: #878787;\n  }\n}\n\n#sk-container-id-1 {\n  color: var(--sklearn-color-text);\n}\n\n#sk-container-id-1 pre {\n  padding: 0;\n}\n\n#sk-container-id-1 input.sk-hidden--visually {\n  border: 0;\n  clip: rect(1px 1px 1px 1px);\n  clip: rect(1px, 1px, 1px, 1px);\n  height: 1px;\n  margin: -1px;\n  overflow: hidden;\n  padding: 0;\n  position: absolute;\n  width: 1px;\n}\n\n#sk-container-id-1 div.sk-dashed-wrapped {\n  border: 1px dashed var(--sklearn-color-line);\n  margin: 0 0.4em 0.5em 0.4em;\n  box-sizing: border-box;\n  padding-bottom: 0.4em;\n  background-color: var(--sklearn-color-background);\n}\n\n#sk-container-id-1 div.sk-container {\n  /* jupyter's `normalize.less` sets `[hidden] { display: none; }`\n     but bootstrap.min.css set `[hidden] { display: none !important; }`\n     so we also need the `!important` here to be able to override the\n     default hidden behavior on the sphinx rendered scikit-learn.org.\n     See: https://github.com/scikit-learn/scikit-learn/issues/21755 */\n  display: inline-block !important;\n  position: relative;\n}\n\n#sk-container-id-1 div.sk-text-repr-fallback {\n  display: none;\n}\n\ndiv.sk-parallel-item,\ndiv.sk-serial,\ndiv.sk-item {\n  /* draw centered vertical line to link estimators */\n  background-image: linear-gradient(var(--sklearn-color-text-on-default-background), var(--sklearn-color-text-on-default-background));\n  background-size: 2px 100%;\n  background-repeat: no-repeat;\n  background-position: center center;\n}\n\n/* Parallel-specific style estimator block */\n\n#sk-container-id-1 div.sk-parallel-item::after {\n  content: \"\";\n  width: 100%;\n  border-bottom: 2px solid var(--sklearn-color-text-on-default-background);\n  flex-grow: 1;\n}\n\n#sk-container-id-1 div.sk-parallel {\n  display: flex;\n  align-items: stretch;\n  justify-content: center;\n  background-color: var(--sklearn-color-background);\n  position: relative;\n}\n\n#sk-container-id-1 div.sk-parallel-item {\n  display: flex;\n  flex-direction: column;\n}\n\n#sk-container-id-1 div.sk-parallel-item:first-child::after {\n  align-self: flex-end;\n  width: 50%;\n}\n\n#sk-container-id-1 div.sk-parallel-item:last-child::after {\n  align-self: flex-start;\n  width: 50%;\n}\n\n#sk-container-id-1 div.sk-parallel-item:only-child::after {\n  width: 0;\n}\n\n/* Serial-specific style estimator block */\n\n#sk-container-id-1 div.sk-serial {\n  display: flex;\n  flex-direction: column;\n  align-items: center;\n  background-color: var(--sklearn-color-background);\n  padding-right: 1em;\n  padding-left: 1em;\n}\n\n\n/* Toggleable style: style used for estimator/Pipeline/ColumnTransformer box that is\nclickable and can be expanded/collapsed.\n- Pipeline and ColumnTransformer use this feature and define the default style\n- Estimators will overwrite some part of the style using the `sk-estimator` class\n*/\n\n/* Pipeline and ColumnTransformer style (default) */\n\n#sk-container-id-1 div.sk-toggleable {\n  /* Default theme specific background. It is overwritten whether we have a\n  specific estimator or a Pipeline/ColumnTransformer */\n  background-color: var(--sklearn-color-background);\n}\n\n/* Toggleable label */\n#sk-container-id-1 label.sk-toggleable__label {\n  cursor: pointer;\n  display: block;\n  width: 100%;\n  margin-bottom: 0;\n  padding: 0.5em;\n  box-sizing: border-box;\n  text-align: center;\n}\n\n#sk-container-id-1 label.sk-toggleable__label-arrow:before {\n  /* Arrow on the left of the label */\n  content: \"▸\";\n  float: left;\n  margin-right: 0.25em;\n  color: var(--sklearn-color-icon);\n}\n\n#sk-container-id-1 label.sk-toggleable__label-arrow:hover:before {\n  color: var(--sklearn-color-text);\n}\n\n/* Toggleable content - dropdown */\n\n#sk-container-id-1 div.sk-toggleable__content {\n  max-height: 0;\n  max-width: 0;\n  overflow: hidden;\n  text-align: left;\n  /* unfitted */\n  background-color: var(--sklearn-color-unfitted-level-0);\n}\n\n#sk-container-id-1 div.sk-toggleable__content.fitted {\n  /* fitted */\n  background-color: var(--sklearn-color-fitted-level-0);\n}\n\n#sk-container-id-1 div.sk-toggleable__content pre {\n  margin: 0.2em;\n  border-radius: 0.25em;\n  color: var(--sklearn-color-text);\n  /* unfitted */\n  background-color: var(--sklearn-color-unfitted-level-0);\n}\n\n#sk-container-id-1 div.sk-toggleable__content.fitted pre {\n  /* unfitted */\n  background-color: var(--sklearn-color-fitted-level-0);\n}\n\n#sk-container-id-1 input.sk-toggleable__control:checked~div.sk-toggleable__content {\n  /* Expand drop-down */\n  max-height: 200px;\n  max-width: 100%;\n  overflow: auto;\n}\n\n#sk-container-id-1 input.sk-toggleable__control:checked~label.sk-toggleable__label-arrow:before {\n  content: \"▾\";\n}\n\n/* Pipeline/ColumnTransformer-specific style */\n\n#sk-container-id-1 div.sk-label input.sk-toggleable__control:checked~label.sk-toggleable__label {\n  color: var(--sklearn-color-text);\n  background-color: var(--sklearn-color-unfitted-level-2);\n}\n\n#sk-container-id-1 div.sk-label.fitted input.sk-toggleable__control:checked~label.sk-toggleable__label {\n  background-color: var(--sklearn-color-fitted-level-2);\n}\n\n/* Estimator-specific style */\n\n/* Colorize estimator box */\n#sk-container-id-1 div.sk-estimator input.sk-toggleable__control:checked~label.sk-toggleable__label {\n  /* unfitted */\n  background-color: var(--sklearn-color-unfitted-level-2);\n}\n\n#sk-container-id-1 div.sk-estimator.fitted input.sk-toggleable__control:checked~label.sk-toggleable__label {\n  /* fitted */\n  background-color: var(--sklearn-color-fitted-level-2);\n}\n\n#sk-container-id-1 div.sk-label label.sk-toggleable__label,\n#sk-container-id-1 div.sk-label label {\n  /* The background is the default theme color */\n  color: var(--sklearn-color-text-on-default-background);\n}\n\n/* On hover, darken the color of the background */\n#sk-container-id-1 div.sk-label:hover label.sk-toggleable__label {\n  color: var(--sklearn-color-text);\n  background-color: var(--sklearn-color-unfitted-level-2);\n}\n\n/* Label box, darken color on hover, fitted */\n#sk-container-id-1 div.sk-label.fitted:hover label.sk-toggleable__label.fitted {\n  color: var(--sklearn-color-text);\n  background-color: var(--sklearn-color-fitted-level-2);\n}\n\n/* Estimator label */\n\n#sk-container-id-1 div.sk-label label {\n  font-family: monospace;\n  font-weight: bold;\n  display: inline-block;\n  line-height: 1.2em;\n}\n\n#sk-container-id-1 div.sk-label-container {\n  text-align: center;\n}\n\n/* Estimator-specific */\n#sk-container-id-1 div.sk-estimator {\n  font-family: monospace;\n  border: 1px dotted var(--sklearn-color-border-box);\n  border-radius: 0.25em;\n  box-sizing: border-box;\n  margin-bottom: 0.5em;\n  /* unfitted */\n  background-color: var(--sklearn-color-unfitted-level-0);\n}\n\n#sk-container-id-1 div.sk-estimator.fitted {\n  /* fitted */\n  background-color: var(--sklearn-color-fitted-level-0);\n}\n\n/* on hover */\n#sk-container-id-1 div.sk-estimator:hover {\n  /* unfitted */\n  background-color: var(--sklearn-color-unfitted-level-2);\n}\n\n#sk-container-id-1 div.sk-estimator.fitted:hover {\n  /* fitted */\n  background-color: var(--sklearn-color-fitted-level-2);\n}\n\n/* Specification for estimator info (e.g. \"i\" and \"?\") */\n\n/* Common style for \"i\" and \"?\" */\n\n.sk-estimator-doc-link,\na:link.sk-estimator-doc-link,\na:visited.sk-estimator-doc-link {\n  float: right;\n  font-size: smaller;\n  line-height: 1em;\n  font-family: monospace;\n  background-color: var(--sklearn-color-background);\n  border-radius: 1em;\n  height: 1em;\n  width: 1em;\n  text-decoration: none !important;\n  margin-left: 1ex;\n  /* unfitted */\n  border: var(--sklearn-color-unfitted-level-1) 1pt solid;\n  color: var(--sklearn-color-unfitted-level-1);\n}\n\n.sk-estimator-doc-link.fitted,\na:link.sk-estimator-doc-link.fitted,\na:visited.sk-estimator-doc-link.fitted {\n  /* fitted */\n  border: var(--sklearn-color-fitted-level-1) 1pt solid;\n  color: var(--sklearn-color-fitted-level-1);\n}\n\n/* On hover */\ndiv.sk-estimator:hover .sk-estimator-doc-link:hover,\n.sk-estimator-doc-link:hover,\ndiv.sk-label-container:hover .sk-estimator-doc-link:hover,\n.sk-estimator-doc-link:hover {\n  /* unfitted */\n  background-color: var(--sklearn-color-unfitted-level-3);\n  color: var(--sklearn-color-background);\n  text-decoration: none;\n}\n\ndiv.sk-estimator.fitted:hover .sk-estimator-doc-link.fitted:hover,\n.sk-estimator-doc-link.fitted:hover,\ndiv.sk-label-container:hover .sk-estimator-doc-link.fitted:hover,\n.sk-estimator-doc-link.fitted:hover {\n  /* fitted */\n  background-color: var(--sklearn-color-fitted-level-3);\n  color: var(--sklearn-color-background);\n  text-decoration: none;\n}\n\n/* Span, style for the box shown on hovering the info icon */\n.sk-estimator-doc-link span {\n  display: none;\n  z-index: 9999;\n  position: relative;\n  font-weight: normal;\n  right: .2ex;\n  padding: .5ex;\n  margin: .5ex;\n  width: min-content;\n  min-width: 20ex;\n  max-width: 50ex;\n  color: var(--sklearn-color-text);\n  box-shadow: 2pt 2pt 4pt #999;\n  /* unfitted */\n  background: var(--sklearn-color-unfitted-level-0);\n  border: .5pt solid var(--sklearn-color-unfitted-level-3);\n}\n\n.sk-estimator-doc-link.fitted span {\n  /* fitted */\n  background: var(--sklearn-color-fitted-level-0);\n  border: var(--sklearn-color-fitted-level-3);\n}\n\n.sk-estimator-doc-link:hover span {\n  display: block;\n}\n\n/* \"?\"-specific style due to the `<a>` HTML tag */\n\n#sk-container-id-1 a.estimator_doc_link {\n  float: right;\n  font-size: 1rem;\n  line-height: 1em;\n  font-family: monospace;\n  background-color: var(--sklearn-color-background);\n  border-radius: 1rem;\n  height: 1rem;\n  width: 1rem;\n  text-decoration: none;\n  /* unfitted */\n  color: var(--sklearn-color-unfitted-level-1);\n  border: var(--sklearn-color-unfitted-level-1) 1pt solid;\n}\n\n#sk-container-id-1 a.estimator_doc_link.fitted {\n  /* fitted */\n  border: var(--sklearn-color-fitted-level-1) 1pt solid;\n  color: var(--sklearn-color-fitted-level-1);\n}\n\n/* On hover */\n#sk-container-id-1 a.estimator_doc_link:hover {\n  /* unfitted */\n  background-color: var(--sklearn-color-unfitted-level-3);\n  color: var(--sklearn-color-background);\n  text-decoration: none;\n}\n\n#sk-container-id-1 a.estimator_doc_link.fitted:hover {\n  /* fitted */\n  background-color: var(--sklearn-color-fitted-level-3);\n}\n</style><div id=\"sk-container-id-1\" class=\"sk-top-container\"><div class=\"sk-text-repr-fallback\"><pre>DecisionTreeClassifier(max_depth=3)</pre><b>In a Jupyter environment, please rerun this cell to show the HTML representation or trust the notebook. <br />On GitHub, the HTML representation is unable to render, please try loading this page with nbviewer.org.</b></div><div class=\"sk-container\" hidden><div class=\"sk-item\"><div class=\"sk-estimator fitted sk-toggleable\"><input class=\"sk-toggleable__control sk-hidden--visually\" id=\"sk-estimator-id-1\" type=\"checkbox\" checked><label for=\"sk-estimator-id-1\" class=\"sk-toggleable__label fitted sk-toggleable__label-arrow fitted\">&nbsp;&nbsp;DecisionTreeClassifier<a class=\"sk-estimator-doc-link fitted\" rel=\"noreferrer\" target=\"_blank\" href=\"https://scikit-learn.org/1.4/modules/generated/sklearn.tree.DecisionTreeClassifier.html\">?<span>Documentation for DecisionTreeClassifier</span></a><span class=\"sk-estimator-doc-link fitted\">i<span>Fitted</span></span></label><div class=\"sk-toggleable__content fitted\"><pre>DecisionTreeClassifier(max_depth=3)</pre></div> </div></div></div></div>"
     },
     "execution_count": 22,
     "metadata": {},
     "output_type": "execute_result"
    }
   ],
   "source": [
    "clf.fit(df_train[cols], df_train.quality)"
   ],
   "metadata": {
    "collapsed": false,
    "ExecuteTime": {
     "end_time": "2024-02-27T08:45:52.246964500Z",
     "start_time": "2024-02-27T08:45:52.214750700Z"
    }
   },
   "id": "231a41f24b5c0e65",
   "execution_count": 22
  },
  {
   "cell_type": "code",
   "outputs": [],
   "source": [
    "train_predictions = clf.predict(df_train[cols])\n",
    "test_predictions = clf.predict(df_test[cols])\n",
    "\n",
    "train_accuracy = metrics.accuracy_score(df_train.quality, train_predictions)\n",
    "test_accuracy = metrics.accuracy_score(df_test.quality, test_predictions)"
   ],
   "metadata": {
    "collapsed": false,
    "ExecuteTime": {
     "end_time": "2024-02-27T08:46:32.991036200Z",
     "start_time": "2024-02-27T08:46:32.964726200Z"
    }
   },
   "id": "9af279388250542a",
   "execution_count": 23
  },
  {
   "cell_type": "code",
   "outputs": [
    {
     "data": {
      "text/plain": "(0.593, 0.5242070116861436)"
     },
     "execution_count": 24,
     "metadata": {},
     "output_type": "execute_result"
    }
   ],
   "source": [
    "train_accuracy, test_accuracy"
   ],
   "metadata": {
    "collapsed": false,
    "ExecuteTime": {
     "end_time": "2024-02-27T08:46:38.787699200Z",
     "start_time": "2024-02-27T08:46:38.761111100Z"
    }
   },
   "id": "a68304748864ad9f",
   "execution_count": 24
  },
  {
   "cell_type": "code",
   "outputs": [
    {
     "data": {
      "text/plain": "<Figure size 1000x500 with 1 Axes>",
      "image/png": "[encoded data removed]"
     },
     "metadata": {},
     "output_type": "display_data"
    }
   ],
   "source": [
    "from sklearn import tree\n",
    "from sklearn import metrics\n",
    "\n",
    "import matplotlib\n",
    "import matplotlib.pyplot as plt\n",
    "import seaborn as sns\n",
    "\n",
    "matplotlib.rc('xtick', labelsize=20)\n",
    "matplotlib.rc('ytick', labelsize=20)\n",
    "\n",
    "train_accuracies = [0.5]\n",
    "test_accuracies = [0.5]\n",
    "\n",
    "for depth in range(1, 25):\n",
    "    clf = tree.DecisionTreeClassifier(max_depth=depth)\n",
    "    cols = df.columns[:-1]\n",
    "    clf.fit(df_train[cols], df_train.quality)\n",
    "    train_predictions = clf.predict(df_train[cols])\n",
    "    test_predictions = clf.predict(df_test[cols])\n",
    "    train_accuracy = metrics.accuracy_score(df_train.quality, train_predictions)\n",
    "    test_accuracy = metrics.accuracy_score(df_test.quality, test_predictions)\n",
    "    train_accuracies.append(train_accuracy)\n",
    "    test_accuracies.append(test_accuracy)\n",
    "\n",
    "plt.figure(figsize=(10, 5))\n",
    "sns.set_style(\"whitegrid\")\n",
    "plt.plot(train_accuracies, label=\"train accuracy\")\n",
    "plt.plot(test_accuracies, label=\"test accuracy\")\n",
    "plt.legend(loc=\"upper left\", prop={'size': 15})\n",
    "plt.xticks(range(0, 26, 5))\n",
    "plt.xlabel(\"max_depth\", size=20)\n",
    "plt.ylabel(\"accuracy\", size=20)\n",
    "plt.show()"
   ],
   "metadata": {
    "collapsed": false,
    "ExecuteTime": {
     "end_time": "2024-02-27T08:49:23.464217300Z",
     "start_time": "2024-02-27T08:49:22.817714400Z"
    }
   },
   "id": "8fff53b8291063ee",
   "execution_count": 25
  },
  {
   "cell_type": "code",
   "outputs": [],
   "source": [
    "import numpy as np\n",
    "import pandas as pd\n",
    "\n",
    "from sklearn import model_selection\n",
    "from sklearn import datasets"
   ],
   "metadata": {
    "collapsed": false,
    "ExecuteTime": {
     "end_time": "2024-02-27T09:21:19.331554900Z",
     "start_time": "2024-02-27T09:21:19.098734700Z"
    }
   },
   "id": "94817964b52495d4",
   "execution_count": 26
  },
  {
   "cell_type": "code",
   "outputs": [
    {
     "data": {
      "text/plain": "array([[-0.6693561 , -1.49577819, -0.87076638, ..., -1.26733697,\n        -1.2763343 ,  1.01664321],\n       [ 0.09337237,  0.78584826,  0.10575379, ..., -0.12270893,\n         0.6934308 ,  0.91136272],\n       [-0.90579721, -0.60834121,  0.29514098, ...,  0.83049813,\n        -0.73733198, -0.5782121 ],\n       ...,\n       [-0.20013455, -1.46108168,  1.79701652, ..., -1.50280171,\n        -1.27473745,  1.60111869],\n       [ 0.03935575,  0.24868361, -0.47532342, ...,  0.09912579,\n         0.54269228,  1.20827474],\n       [ 0.76921528,  0.47076539,  0.16994471, ...,  0.6561162 ,\n         0.64333186, -2.02100232]])"
     },
     "execution_count": 30,
     "metadata": {},
     "output_type": "execute_result"
    }
   ],
   "source": [
    "X, y = datasets.make_classification(\n",
    "    n_samples=1000, n_features=20, n_classes=2, random_state=42\n",
    ")\n",
    "X"
   ],
   "metadata": {
    "collapsed": false,
    "ExecuteTime": {
     "end_time": "2024-02-27T09:22:35.971606400Z",
     "start_time": "2024-02-27T09:22:35.938407Z"
    }
   },
   "id": "732b1594763fa2b2",
   "execution_count": 30
  },
  {
   "cell_type": "code",
   "outputs": [
    {
     "data": {
      "text/plain": "array([1, 0, 1, 1, 0, 0, 1, 0, 1, 0, 1, 0, 0, 0, 1, 1, 0, 0, 0, 1, 1, 0,\n       0, 1, 1, 0, 0, 1, 1, 1, 1, 1, 1, 1, 1, 1, 1, 1, 0, 1, 1, 1, 1, 0,\n       0, 1, 0, 0, 1, 0, 1, 0, 0, 1, 0, 1, 0, 0, 1, 0, 0, 0, 0, 1, 0, 1,\n       0, 1, 1, 0, 1, 0, 1, 0, 1, 0, 1, 1, 1, 1, 1, 0, 0, 1, 0, 1, 0, 0,\n       0, 1, 1, 1, 0, 1, 0, 1, 1, 0, 1, 1, 1, 1, 1, 1, 0, 1, 1, 0, 1, 0,\n       0, 1, 1, 1, 0, 0, 0, 0, 0, 1, 1, 1, 0, 0, 0, 1, 1, 0, 1, 1, 0, 1,\n       0, 0, 0, 1, 0, 1, 1, 1, 0, 1, 0, 1, 0, 1, 0, 0, 0, 1, 1, 1, 0, 0,\n       0, 1, 0, 1, 1, 1, 1, 0, 0, 1, 0, 1, 0, 1, 0, 0, 1, 0, 0, 0, 0, 1,\n       0, 0, 0, 1, 1, 0, 1, 1, 1, 1, 1, 0, 0, 1, 1, 0, 1, 0, 0, 1, 0, 1,\n       0, 1, 0, 0, 1, 1, 1, 0, 0, 1, 1, 1, 1, 0, 1, 1, 1, 1, 1, 0, 0, 0,\n       1, 1, 1, 1, 0, 0, 0, 0, 1, 1, 1, 0, 1, 1, 0, 0, 1, 1, 1, 1, 1, 0,\n       0, 0, 0, 1, 0, 0, 0, 1, 0, 1, 0, 0, 1, 1, 0, 1, 0, 1, 0, 0, 0, 1,\n       1, 1, 1, 1, 1, 1, 0, 0, 0, 0, 0, 0, 1, 1, 1, 0, 0, 1, 1, 1, 1, 1,\n       0, 1, 0, 1, 1, 1, 0, 0, 0, 0, 1, 0, 1, 1, 1, 1, 0, 1, 0, 1, 1, 0,\n       0, 1, 0, 1, 0, 0, 1, 1, 1, 1, 1, 1, 1, 1, 1, 1, 0, 1, 1, 0, 0, 0,\n       0, 0, 1, 1, 1, 1, 1, 0, 1, 1, 0, 1, 0, 0, 0, 1, 0, 1, 1, 0, 0, 1,\n       0, 1, 1, 0, 1, 0, 0, 0, 0, 0, 1, 1, 0, 0, 1, 0, 1, 1, 0, 0, 0, 1,\n       0, 1, 0, 0, 0, 1, 0, 0, 1, 1, 0, 1, 0, 1, 1, 1, 1, 0, 0, 1, 0, 1,\n       0, 0, 1, 0, 1, 1, 0, 1, 1, 0, 1, 1, 1, 1, 0, 1, 1, 0, 0, 0, 1, 1,\n       1, 1, 0, 0, 1, 0, 0, 1, 0, 0, 0, 0, 0, 1, 1, 1, 1, 1, 0, 1, 0, 1,\n       0, 0, 0, 1, 1, 1, 1, 0, 0, 0, 1, 0, 1, 1, 0, 1, 1, 1, 1, 0, 1, 1,\n       0, 1, 1, 0, 0, 0, 1, 0, 0, 0, 0, 0, 1, 0, 0, 0, 1, 1, 1, 0, 1, 1,\n       1, 0, 0, 0, 0, 1, 1, 1, 1, 0, 1, 0, 0, 0, 0, 0, 1, 1, 1, 0, 0, 0,\n       0, 0, 1, 1, 0, 0, 1, 1, 1, 0, 0, 0, 0, 1, 0, 1, 0, 1, 1, 1, 1, 0,\n       0, 1, 0, 0, 1, 0, 1, 0, 1, 0, 0, 1, 1, 1, 0, 0, 1, 0, 1, 1, 1, 1,\n       1, 1, 0, 0, 1, 0, 1, 1, 1, 1, 0, 1, 1, 1, 0, 0, 0, 1, 1, 0, 0, 0,\n       0, 0, 1, 1, 1, 0, 1, 0, 1, 0, 1, 1, 0, 0, 0, 1, 0, 1, 0, 1, 0, 1,\n       1, 0, 0, 1, 1, 0, 1, 0, 1, 0, 1, 0, 1, 0, 1, 0, 0, 0, 0, 0, 0, 1,\n       0, 0, 0, 0, 0, 1, 0, 1, 0, 1, 0, 0, 1, 0, 0, 0, 0, 1, 0, 1, 0, 0,\n       0, 0, 0, 1, 0, 1, 0, 0, 0, 0, 1, 1, 1, 0, 0, 0, 1, 1, 0, 0, 1, 0,\n       1, 0, 1, 1, 0, 1, 1, 1, 0, 1, 1, 0, 0, 0, 1, 1, 1, 0, 0, 0, 0, 0,\n       0, 1, 0, 1, 0, 0, 0, 1, 0, 1, 0, 0, 1, 1, 0, 1, 0, 1, 1, 1, 1, 0,\n       0, 0, 0, 0, 0, 0, 0, 0, 0, 0, 0, 1, 1, 1, 0, 1, 1, 1, 1, 0, 0, 0,\n       1, 0, 0, 0, 1, 0, 0, 1, 0, 1, 0, 1, 1, 1, 1, 0, 1, 1, 0, 1, 1, 0,\n       1, 1, 0, 1, 1, 0, 0, 0, 0, 0, 1, 0, 1, 1, 1, 0, 1, 0, 1, 1, 0, 0,\n       0, 0, 0, 0, 0, 0, 1, 0, 0, 0, 1, 0, 0, 0, 1, 0, 0, 0, 1, 0, 1, 1,\n       0, 0, 0, 1, 1, 0, 0, 0, 0, 0, 1, 0, 1, 1, 1, 1, 0, 1, 1, 1, 0, 1,\n       0, 0, 1, 0, 0, 0, 1, 0, 0, 0, 1, 0, 1, 0, 0, 1, 0, 1, 0, 0, 1, 1,\n       0, 1, 1, 1, 0, 1, 1, 1, 1, 0, 0, 0, 0, 1, 0, 0, 0, 1, 0, 0, 1, 1,\n       1, 0, 1, 0, 1, 0, 1, 1, 1, 1, 0, 0, 1, 0, 1, 1, 0, 1, 0, 0, 1, 0,\n       1, 0, 0, 1, 1, 1, 1, 1, 1, 1, 0, 1, 1, 0, 1, 0, 0, 0, 1, 0, 1, 0,\n       0, 0, 1, 1, 0, 1, 1, 1, 0, 1, 0, 1, 1, 0, 0, 0, 0, 1, 0, 1, 0, 1,\n       1, 1, 1, 1, 0, 1, 1, 0, 1, 1, 0, 0, 0, 0, 0, 1, 1, 1, 0, 0, 1, 1,\n       0, 1, 0, 0, 1, 1, 1, 0, 0, 0, 1, 1, 1, 1, 0, 0, 0, 1, 0, 1, 0, 1,\n       0, 0, 0, 0, 0, 1, 1, 0, 1, 0, 0, 1, 0, 1, 1, 0, 1, 1, 0, 1, 0, 1,\n       0, 1, 1, 1, 1, 0, 1, 1, 0, 0])"
     },
     "execution_count": 31,
     "metadata": {},
     "output_type": "execute_result"
    }
   ],
   "source": [
    "y"
   ],
   "metadata": {
    "collapsed": false,
    "ExecuteTime": {
     "end_time": "2024-02-27T09:22:36.784463600Z",
     "start_time": "2024-02-27T09:22:36.730604100Z"
    }
   },
   "id": "f6ba85e3cfd8938d",
   "execution_count": 31
  },
  {
   "cell_type": "code",
   "outputs": [
    {
     "data": {
      "text/plain": "array([[ 0.22584183,  1.55137772, -0.10734682, ..., -1.35154745,\n         0.3646018 ,  0.13316649],\n       [ 0.11083638, -1.45461475,  0.26388849, ..., -1.42646391,\n        -0.60451386, -0.16624207],\n       [ 0.45860045, -0.08127955, -0.69847376, ...,  0.90822252,\n         0.51141526, -2.09317802],\n       ...,\n       [-0.5125888 ,  1.12477672,  0.89835957, ...,  0.6832124 ,\n         1.09848488,  1.27442843],\n       [-2.96836843, -0.92984795,  0.05520801, ...,  1.34954631,\n        -0.489467  ,  1.23228383],\n       [-0.48716718,  2.80137299, -1.08863484, ..., -2.21760908,\n         0.50011283,  0.83533344]])"
     },
     "execution_count": 32,
     "metadata": {},
     "output_type": "execute_result"
    }
   ],
   "source": [
    "X, y = datasets.make_regression(\n",
    "    n_samples=1000, n_features=20, noise=0.1, random_state=42\n",
    ")\n",
    "X"
   ],
   "metadata": {
    "collapsed": false,
    "ExecuteTime": {
     "end_time": "2024-02-27T09:22:55.114447300Z",
     "start_time": "2024-02-27T09:22:55.062609700Z"
    }
   },
   "id": "6a0d403fa3e55e22",
   "execution_count": 32
  },
  {
   "cell_type": "code",
   "outputs": [
    {
     "data": {
      "text/plain": "array([ 2.88732802e+00, -2.54379865e+02,  1.88854342e+02, -1.79585447e+02,\n       -4.80788734e+01,  2.39149474e+02, -1.50848201e+02,  5.04209549e+01,\n       -5.01494274e+00, -1.54877686e+02,  5.49256175e+00,  1.55739624e+01,\n       -3.11666770e+02, -2.15504875e+02,  1.89932206e+02,  1.33656985e+02,\n        6.35964986e+01,  9.71931458e+01,  3.67564459e+01, -1.14603500e+01,\n        3.44074480e+01,  1.11323497e+00, -1.99644240e+02,  1.56371739e+02,\n       -1.91471003e+02,  5.08273286e+01,  1.97183359e+02,  1.02658640e+02,\n        3.48936318e+02, -1.87651315e+02,  3.46818786e+02, -1.75598881e+02,\n        7.38150461e+01, -2.09811925e+02,  1.69119985e+02,  9.66667147e+01,\n       -1.88238742e+02, -1.89756566e+02,  2.33684367e+02,  1.73623939e+02,\n        3.14671349e+02, -4.86977718e+02,  6.27632764e+01, -2.55091051e+02,\n        6.68354893e+01,  1.92047170e+02,  2.08143963e+02, -2.38385548e+02,\n       -1.69401627e+02, -1.75668000e+02,  1.93024794e+02,  3.78338450e+02,\n        1.25351049e+02,  6.56118259e+01,  2.94994853e+01,  4.18754836e+02,\n        3.05671438e+02, -4.70936913e+01, -2.73365225e+02,  1.73157893e+02,\n       -1.70632842e+02, -2.68956729e+02, -1.45877637e+02, -1.06165495e+02,\n       -1.25526508e+01,  7.38890264e+01,  7.40748020e+01,  4.71436794e+02,\n       -1.28651793e+02,  4.11142723e+01, -2.62844293e+01, -2.95366152e+02,\n        2.09846469e+02,  4.66969006e+00,  6.94454766e+01,  7.41062844e+01,\n       -3.89227290e+02, -3.77257602e+01,  1.25476407e+02, -2.49061154e+02,\n       -1.46498691e+02,  4.29891254e+02,  3.43689775e+01,  3.14783426e+02,\n        3.08998753e+02,  8.25557479e+01,  1.47521655e+01, -7.49723632e+01,\n        6.02094240e+01,  3.09162062e+02,  2.60696655e+02,  2.13191207e+02,\n       -1.27306369e+02,  7.53963173e+01,  4.67026744e+02,  9.45733684e+01,\n        1.04916457e+02,  2.93227479e+02,  1.07655421e+02,  4.98534477e+02,\n       -1.20623453e+02,  1.77510541e+01,  2.09975365e+02,  1.64884417e+02,\n        3.05113704e+02, -2.33347301e+02, -4.09869463e+02, -2.02614621e+01,\n       -1.82060126e+02,  1.34684210e+02, -7.53009096e+01, -4.24169820e+02,\n       -1.48911423e+02,  6.81834935e+01, -2.76376623e+02,  1.04670405e+02,\n        2.46060657e+02,  3.01720335e+02, -8.29251731e+01, -2.04558909e+01,\n       -2.08811750e+02, -5.55836853e+01,  1.73908813e+02,  1.84841741e+02,\n       -9.37814518e+01,  2.75371259e+02, -6.01033504e+01,  2.17534622e+02,\n       -8.29917346e+01, -9.77210227e+01, -8.86527669e+01, -3.59764161e+01,\n        3.89517585e+02, -4.47660027e+01,  3.56640897e+02, -1.36015235e+02,\n       -2.84767383e+02, -1.79560905e+02, -2.98205627e+02,  8.26506270e+01,\n        2.86676180e+02, -1.80762761e+02,  8.44489292e+01, -1.51662301e+02,\n       -9.82111660e+01, -5.95655229e+01,  2.20259111e+02,  1.17364825e+02,\n        1.61288618e+02, -3.41235434e+02,  4.73830864e+02,  7.53425690e+01,\n        6.33380664e+01,  1.87454088e+02,  8.06718531e+01, -2.67721778e+02,\n       -1.38699310e+02, -1.69903552e+02,  1.21466713e+02, -9.82019311e+01,\n       -9.05111581e+01,  1.87602766e+02,  1.58476204e+02,  1.51928243e+02,\n       -1.40883176e+02, -2.37803421e+02, -8.42602560e+01,  2.07049047e+02,\n       -1.21105975e+02, -3.70901253e+01,  1.08483166e+02, -1.31980704e+02,\n        5.20286477e+00, -1.48040118e+02,  1.23053661e+02, -5.08376713e+02,\n       -6.07935542e+01, -1.14744735e+02,  4.71222793e+01, -1.23098566e+02,\n        1.76724637e+01, -2.36680100e+02, -5.37645520e+02, -2.87862501e+02,\n       -2.13796426e+02,  2.33715690e+02,  1.92427444e+02, -7.69535311e+01,\n       -3.56143203e+02,  4.71946885e+01, -5.44155471e+01,  9.32115774e+00,\n       -8.36649690e+01, -4.88434557e+01, -1.40347545e+02, -4.40029847e+02,\n       -7.34036357e+01,  2.15356738e+02, -1.74095394e+02,  3.43952981e+02,\n        1.93291768e+02, -1.05890722e+02, -9.18293664e+01,  2.91274814e+01,\n        6.86208227e+01, -1.53642427e+02,  1.61492952e+02,  6.37329085e+01,\n       -1.44706915e+02, -1.65033332e+02,  2.42346351e+02, -3.66375373e+02,\n       -2.62208143e+02,  3.94129395e+00, -1.34965346e+02, -5.48753655e+01,\n       -4.37536374e+01,  4.47898525e+02, -2.79211296e+02, -1.98127283e+02,\n        9.60303141e+01, -2.43426821e+01,  1.58082504e+01, -2.66875769e+02,\n       -3.33904669e+02, -2.14817225e+02, -2.69325122e+02, -1.62981341e+02,\n        1.82077060e+02,  1.16199692e+02,  1.80029852e+02, -7.99188824e+01,\n        3.07528016e+02, -2.23123305e+01, -2.94152239e+02,  4.01361865e+00,\n       -2.36290187e+00,  2.97506246e+02, -3.55522183e+02, -3.70987252e+01,\n        1.39685742e+02, -2.80741300e+01,  3.07007111e+02,  2.34544684e+02,\n        2.65331141e+02, -7.47279802e+00,  2.01326480e+02, -1.18726525e+02,\n       -1.07292320e+02, -1.96620501e+02, -4.13954666e+02, -4.07806850e+02,\n       -2.92932286e+02,  2.55399537e+01, -1.96452892e+02, -2.34490945e+02,\n        4.24280943e+02,  1.20416958e+02,  3.80800273e+02, -1.29958881e+02,\n        1.70763158e+01, -8.32840642e+01,  6.45643804e+01,  4.67976759e+01,\n       -7.23980353e+01, -2.35548123e+00, -1.44383035e+02,  1.32214248e+02,\n       -2.09329091e+02, -3.56059575e+01,  1.16532077e+02, -2.33012507e+02,\n       -3.96880696e+02,  3.07067132e+02,  1.36196280e+02, -3.13476097e+02,\n        1.53389615e+00,  5.69570634e-02,  7.50509559e+00, -2.51522560e+02,\n       -1.82064373e+02, -1.83222278e+02,  3.20503480e+02,  1.42305207e+02,\n       -1.50662393e+02,  5.30653500e+01,  5.18652775e+01,  1.57132564e+02,\n       -2.22763179e+01, -8.19571660e+01,  2.44215844e+02, -1.68731499e+02,\n        1.73753520e+02,  4.60083483e+01,  4.19719620e+00, -1.05225276e+02,\n        2.37274694e+02,  3.40253836e+01, -1.24244226e+02, -4.32703996e+01,\n       -1.93718008e+02,  1.25441484e+01,  1.21879501e+02,  2.52770648e+01,\n       -9.82575689e+01, -3.68036662e+01,  1.48336787e+02, -6.77843252e+01,\n       -8.74955414e+01,  2.35560235e+02, -4.29614839e+01,  5.82925174e+01,\n       -1.20692944e+01,  1.07752766e+02,  3.75390420e+02, -2.31265730e+02,\n        4.63489508e+00,  2.94109348e+02, -1.43394306e+02,  5.00557518e+02,\n        4.11123350e+02,  8.01746066e+01, -2.02357933e+02, -3.57041679e+01,\n        1.65305557e+02,  2.02633773e+02,  1.42290462e+01,  5.95234085e+01,\n       -2.04544862e+02, -2.02951080e+02,  2.77708750e+02,  8.91396317e+01,\n        2.08718999e+02, -5.36509348e+01, -2.13314728e+02,  2.46351271e+01,\n        9.36959961e+01,  2.64313811e+01,  7.43092125e+01,  1.28540080e+02,\n       -5.69625293e+01,  1.79914681e+02, -1.94295392e+01,  1.16320304e+02,\n       -2.72995628e+01,  5.27950224e+01, -2.37614454e+01,  7.42015596e+01,\n       -1.98673320e+02,  2.13052065e+02,  1.16953245e+02, -2.54744685e+02,\n        2.76233612e+02,  1.04111265e+02, -1.04425196e+02, -2.34245657e+02,\n       -4.23734836e+00, -1.04181483e+02, -3.05750787e+02, -4.69076856e+02,\n        2.36313549e+02,  1.12512640e+01,  2.58176295e+01, -1.11934453e+02,\n        3.67068482e+01, -2.05368098e+02, -2.94996208e+02, -6.34274728e+01,\n        1.05260676e+02,  2.33289678e+01,  9.40267141e+00,  2.21709148e+02,\n        3.02301604e+02,  3.10765411e+02,  2.04040251e+01, -2.37774957e+02,\n        4.14310525e+00, -8.10522747e+01,  2.52489854e+02, -1.91879481e+02,\n        1.89130207e+02, -8.36324321e+01,  2.68214287e+02,  1.44795347e+02,\n       -1.52659276e+02, -3.74562046e+00, -7.78599532e+01, -6.52240081e+01,\n       -1.26710465e+02,  6.77030773e+01,  3.65597874e+02, -2.80407348e+02,\n        2.68949326e+02,  3.20359278e+02,  2.10107086e+02, -1.20512787e+01,\n        2.39536763e+01, -8.85689374e+01, -4.63394362e+02,  2.46897327e+02,\n        2.06868516e+02, -1.72372582e+02, -2.59772563e+02, -2.80416141e+02,\n       -2.44825214e+02,  1.28198486e+02,  2.14694258e+02,  1.14620058e+02,\n       -1.39533293e+02,  2.13746638e+02,  1.99908645e+02,  1.96476319e+02,\n        9.78003973e+01, -2.41919945e+02,  7.46968457e+01, -6.15878522e+01,\n        5.37853744e+01, -2.62112948e+02, -9.03516308e+01,  1.01522450e+02,\n       -4.67955290e+02,  2.90336300e+02, -2.73684814e+02, -1.78883355e+02,\n        3.06506846e+02,  2.65177289e+02, -2.16450499e+02, -9.73303018e+01,\n        7.10821870e+01,  1.57118419e+02,  1.17707749e+02,  1.43124040e+02,\n       -3.15399130e+02, -3.82892800e+02,  4.75792776e+02, -7.57501972e+00,\n       -8.21497710e+00,  4.59390408e+01,  1.37318774e+02, -7.25887229e+00,\n       -1.63421411e+02, -4.13632206e+01,  1.02356681e+02, -7.82941363e+01,\n        7.85418021e+01,  8.91066182e+01,  1.72416712e+02,  2.44469585e+01,\n        9.91548287e+01,  2.99780681e+02,  3.29325118e+01,  6.45670320e+01,\n       -1.42458486e+02,  4.37892381e+00,  1.69565866e+02, -4.76846696e+01,\n        1.09445254e+02, -3.25156499e+02, -1.68539947e+02,  2.50821479e+02,\n        1.32218508e+02, -3.18318861e+02,  8.69759091e+01,  1.37648019e+02,\n       -1.34513384e+02, -5.36271706e+01,  2.18073149e+02, -1.24248490e+02,\n        6.33778394e+01,  1.46536645e+02,  2.02789773e+02, -3.32578282e+02,\n       -1.53434646e+02, -1.77637854e+02, -1.37530854e+02, -5.64703220e+01,\n        1.46088239e+02, -5.78837708e+01, -1.49758087e+02, -3.72459879e+02,\n       -5.84138843e+01, -1.15955879e+02,  4.31051990e+01,  1.49087616e+02,\n        2.92792866e+02, -1.65220019e+02,  2.72657298e+02,  6.03254262e+01,\n        7.19971934e+01,  7.53576692e+01, -3.72988344e+02, -9.22118706e+01,\n        1.45535851e+02,  1.26796207e+02,  1.09997837e+02,  1.83419575e+02,\n       -3.86471303e+01, -1.57199902e+01,  2.58025747e+02, -1.06034574e+02,\n        2.53260574e+02,  3.70786766e+02,  1.23243486e+01,  3.25875776e+01,\n        4.79326943e+02,  6.60878617e+01,  8.36341462e+01, -1.59150844e+02,\n        1.12951923e+02, -1.08997149e+02, -3.14047912e+02, -4.21373028e+01,\n        1.04363460e+02, -1.30861906e+02, -1.17182272e+02, -8.33526438e+01,\n       -1.39183788e+02, -1.52250600e+02,  6.84038091e+01, -1.88517259e+02,\n        1.11979177e+01, -3.22973458e+02,  1.85796871e+02,  1.40177554e+01,\n        3.56347730e+01, -2.13497904e+02, -5.28386763e+01,  4.91503157e+01,\n        1.93283634e+01, -7.49254994e+01, -1.87108722e+00,  1.09045359e+02,\n       -2.70240323e+02,  1.84699098e+01, -1.09630234e+02, -8.09656950e+00,\n        1.79225209e+02,  2.48849152e+02, -3.37156013e+02, -2.75895575e+02,\n       -1.48496699e+02, -8.54681226e+01,  2.25449103e+02,  2.28928095e+01,\n       -9.54922671e+01,  2.00953284e+02, -1.60633508e+02,  1.27208766e+02,\n        1.28120689e+02, -1.46423543e+02,  1.90571053e+02, -3.00482927e+02,\n       -1.05345738e+02, -2.59246007e+02,  3.12201577e+02,  5.76990135e+01,\n        1.11939693e+02, -1.60921248e+01, -1.58825535e+01,  1.19109413e+02,\n       -1.08538132e+02,  8.81283968e+01, -1.70219021e+02,  7.72808369e+01,\n       -2.07959561e+02,  4.21095047e+02,  2.06141910e+02, -2.30619379e+02,\n        9.53395821e+01, -2.60815741e+02, -1.74247461e+01, -3.95421258e+02,\n        2.87996326e+01, -8.43936540e+01, -2.15559382e+02,  3.47706273e+02,\n        1.80065447e+02,  4.19962118e+02, -5.82061929e+02, -9.37859515e+01,\n        1.68404184e+02,  1.70493287e+02, -2.10303651e+02,  1.09742951e+02,\n        3.17502428e+02, -2.93227146e+02,  1.02607191e+01,  9.70178172e+01,\n       -1.08107454e+02, -1.98453734e+01,  1.82993094e+02,  2.36583600e+02,\n        1.39235997e+02, -2.08975804e+02, -5.15113052e+01,  2.21425610e+00,\n        6.41929568e+01,  2.18006323e+01, -1.70816847e+02,  2.05799988e+02,\n        2.81481821e+01,  1.81619540e+02, -5.25908668e+01,  2.19427062e+02,\n       -1.01611507e+02, -1.58358974e+02, -2.82199584e+02, -1.33389694e+02,\n        7.93601762e+01,  3.41272808e+02,  1.45250727e+02,  2.52597110e+02,\n        1.69704322e+01,  1.99476235e+02,  1.09247670e+01,  9.69924570e+01,\n       -2.25017194e+02,  1.23327189e+02, -2.65082773e+02, -3.10826091e+02,\n       -1.76284881e+02,  6.88799448e+01, -1.56867543e+02, -3.17140137e+02,\n       -9.38336144e+01, -7.49898688e+01,  4.14855226e+02,  1.18200654e+02,\n        2.10006287e+02, -2.76292343e+02,  2.84801481e+02, -1.98463078e+02,\n       -2.72189464e+02,  9.67378450e+01, -8.19635493e+01, -1.47076208e+02,\n       -6.03314194e+01, -1.26110954e+02,  9.25858830e+01,  4.10013439e+01,\n        3.54000699e+01, -3.47807438e+02,  1.10780478e+02, -8.37057569e+01,\n        2.35862436e+02,  1.03149816e+02, -2.26847827e+02, -4.24836477e+02,\n       -2.55429141e+02,  2.81992548e+02,  1.51960502e+02,  3.52157207e+01,\n       -3.35329607e+02, -3.63181518e+02, -5.89621920e+01,  1.99843391e+02,\n       -3.05357867e+01,  9.40532622e+01,  6.97390850e+01, -3.14923633e+01,\n       -2.73141910e+02, -2.30320800e+02, -1.45065614e+02, -1.49438336e+02,\n        1.63571186e+02,  9.57067110e+01, -7.26096695e+01,  1.10987029e+02,\n        1.17814139e+02, -1.09556782e+02, -2.07627260e+02,  7.89282367e+01,\n        9.88668241e+01,  1.81239187e+02, -2.18976872e+02,  1.38124476e+02,\n        1.07315592e+02,  1.34410493e+01,  2.08902087e+02, -3.00973573e+02,\n        2.57093095e+02,  5.91450357e+01,  8.21164810e+01,  5.06020637e+00,\n        2.89892102e+02, -2.02454484e+01, -2.28698500e+01, -8.01222696e+01,\n       -8.80553989e+00,  1.23077851e+02,  2.42433078e+02, -1.59036268e+02,\n        2.44357246e+01, -2.30105653e+02, -1.55251647e+00, -2.33840871e+02,\n       -9.53106684e+01,  3.07034717e+02,  9.00625395e+01, -2.67390985e+02,\n       -9.14710849e+00, -1.52954250e+02,  1.49199911e+02, -4.05800026e+02,\n       -1.62103103e+02,  2.77615880e-01,  4.14965061e+01, -1.93129830e+02,\n        2.92641616e+02, -2.03543201e+02,  5.21526799e-01, -1.06780164e+02,\n        2.33133857e+02, -2.49053745e+02, -7.96671797e+01,  1.73219201e+02,\n        2.62606612e+01, -1.27830265e+02,  1.73783772e+02,  1.36652761e+01,\n        2.18075890e+02,  1.10022179e+02, -2.01880455e+02, -1.49683821e+02,\n        6.68613455e+01, -3.51457225e+02,  8.51185289e+01, -1.60364419e+02,\n       -7.02554860e+01, -4.99861235e+01,  1.10493120e+02, -1.92243232e+02,\n       -1.70109003e+02,  2.04360589e+02,  3.41216427e+01, -2.66611047e+02,\n       -2.94940126e+01, -3.77232139e+02, -2.33044691e+02, -5.53280634e+01,\n        3.69215150e+02, -1.70643498e+02,  1.40805927e+02, -7.31578980e+01,\n        2.21345173e+02, -1.23715793e+02,  1.60316348e+02,  7.57176267e+00,\n        2.66526145e+02,  3.01836587e+02,  2.51448800e+02, -4.57296766e+01,\n        1.18869556e+01, -2.90156786e+02,  1.79308537e+02,  2.80617423e+01,\n        2.85608833e+02,  3.21383920e+01,  3.11734936e+02,  2.74914311e+02,\n       -9.14452870e+01, -3.91933325e+01,  1.68745024e+02,  2.04254278e+01,\n        1.73112659e+02,  1.54924438e+02,  1.10356557e+01, -2.43484147e+02,\n        5.83453820e+01,  6.52879539e+01, -1.82131259e+02, -8.09163439e+00,\n        1.19933171e+01,  1.81090217e+02,  1.35588189e+02,  1.88550323e+02,\n       -2.23018755e+02,  8.62337188e+01, -1.41965944e+02, -1.36147316e+02,\n        9.21822130e+01, -1.57328708e+02,  2.53409976e+02, -5.43757515e+01,\n        2.50409682e+02,  1.95252887e+02, -3.77692454e+01,  2.20072263e+02,\n        1.45537446e+02, -2.55930037e+02,  4.14041541e+01, -1.83220568e+02,\n       -1.38031898e+02,  1.66142688e+02, -2.33748302e+02, -1.73713618e+02,\n       -3.40171737e+02,  1.83266657e+02,  2.46748714e+02,  2.54452840e+02,\n        2.58602580e+01,  2.51802941e+02,  1.68554220e+02,  1.53141433e+01,\n       -7.13754766e+01,  2.18551466e+02,  1.66051184e+02, -2.79383621e+02,\n        1.87769822e+02, -5.40127528e+01,  2.42858211e+02, -1.88061271e+02,\n        3.30956498e+01,  8.91945817e+01, -2.13360517e+02,  3.34623263e+01,\n        5.01433951e+01, -1.02114086e+01, -9.44795353e+00, -1.24554466e+02,\n       -4.43419685e+01,  1.01845920e+02,  1.08820632e+02,  1.50416020e+02,\n       -9.31288680e+01, -2.51281527e+02, -1.22915005e+02, -3.29377619e+01,\n        1.66238910e+02, -1.71602187e+02,  1.39500089e+02, -1.59804244e+02,\n        1.41456248e+00, -2.02497421e+02, -2.10493226e+02,  3.04390896e+01,\n        1.44861504e+02, -1.47795200e+02,  2.29276095e+02,  2.66614291e+02,\n       -3.88140142e+01,  1.90337726e+02, -9.02592779e+01, -4.93558813e+01,\n       -2.45100645e+02,  1.37107880e+02, -9.51868777e+00, -2.42082197e+01,\n        3.43194452e+01, -8.11370789e+01,  4.26196825e+02, -3.45519571e+02,\n        3.68629209e+01,  8.26394770e+01, -1.00401411e+02,  3.26982209e+02,\n       -2.21394226e+01,  4.24723367e+01, -2.32210656e+02, -6.64043295e+01,\n        4.93981210e+01,  3.05619311e+02,  3.89346517e+02,  2.60239490e+02,\n        1.63584678e+02,  3.71050298e+02, -4.49770791e+02,  1.14977356e+02,\n       -1.58103817e+02, -1.23319392e+02, -1.12174727e+02, -7.51446644e+01,\n       -5.07894181e+01,  2.17041381e+02, -3.80789477e+02, -3.94453833e+01,\n       -1.82004402e+02, -1.75879104e+02, -8.34312518e+01,  1.25531801e+02,\n        1.41718434e+02,  9.62220744e+01,  1.94448460e+02, -1.92938982e+02,\n       -1.98512404e+01,  3.11014631e+02,  7.53067984e+01, -8.66431013e+01,\n        3.09629065e+02,  4.46915528e+02,  6.14446438e+01, -2.05331555e+02,\n        1.77810970e+02,  1.72501132e+02,  1.35484410e+02,  4.55767865e+02,\n       -5.32486914e+02,  2.71478261e+02, -2.28536475e+02,  6.70056589e+01,\n       -1.41274296e+02,  4.15862062e+01,  5.01902226e+01, -4.79938478e+01,\n       -2.73428692e+01, -7.47433233e+01, -1.14367871e+02,  8.13276204e+01,\n       -1.77624476e+02,  6.76265794e+01, -4.73975348e+02,  1.04466282e+02,\n       -2.31681467e+02,  2.54038668e+01, -3.45845914e+02,  1.76232953e+02,\n        3.30215166e+01,  1.10068074e+02,  7.68039941e+01, -1.67905510e+02,\n       -8.34329775e+00,  2.49279759e+02, -1.86429682e+01, -1.24427249e+02,\n       -3.03548236e+02,  1.44050385e+02,  2.27637366e+02, -6.00476835e+01,\n       -1.20910208e+02,  9.35612387e+01,  2.25852375e+02,  1.16777660e+02,\n       -3.03245143e+02,  6.35511873e+00,  1.94686505e+02, -1.12204740e+02,\n       -6.50205621e+01,  1.06231947e+02,  6.49187906e+01,  4.16158250e+02,\n       -9.17647726e+01, -6.49425564e+01, -1.14802767e+02, -8.02128126e+01,\n       -4.13825705e+02, -1.55793917e+02,  1.05874591e+02,  3.42120175e+01,\n       -3.82071403e+02,  9.96293393e+01,  6.20680722e+01,  1.74277564e+02,\n       -1.04002611e+02, -5.77696429e+02, -2.84678925e+02, -1.10717181e+02,\n        1.67964370e+01,  6.58338233e+01,  8.98799263e+01, -4.81073662e+01,\n       -7.09660987e+01,  5.65528786e+02,  1.11869817e+01, -8.14107671e+00,\n        7.83471002e+01, -2.19405936e+02,  1.95271080e+02,  4.27783502e+02,\n       -9.88353427e+01, -1.03529707e+02, -1.45636419e+01,  2.10418675e+02,\n        3.69943035e+02, -4.40380374e+01, -2.82790228e+02, -3.00695479e+01,\n       -1.97701123e+02, -3.24445750e+02, -3.70129290e+01, -2.92042404e+01,\n        3.00701608e+02,  2.52880197e+02,  1.90534957e+02, -4.47073515e+02,\n       -2.41236851e+02, -9.95239231e+01,  4.53635982e+02, -2.68858178e+02,\n        1.17536234e+02, -1.50039509e+02, -1.57772208e+01, -1.08247654e+02,\n        2.16863824e+02,  2.72166513e+01,  1.86172703e+01, -8.01155678e+01,\n        1.59050361e+02,  2.03978549e+01, -1.39447959e+02, -7.25360606e+00])"
     },
     "execution_count": 33,
     "metadata": {},
     "output_type": "execute_result"
    }
   ],
   "source": [
    "y"
   ],
   "metadata": {
    "collapsed": false,
    "ExecuteTime": {
     "end_time": "2024-02-27T09:22:57.288119Z",
     "start_time": "2024-02-27T09:22:57.255148600Z"
    }
   },
   "id": "7e37c960f014cbeb",
   "execution_count": 33
  },
  {
   "cell_type": "code",
   "outputs": [
    {
     "data": {
      "text/plain": "          f_0       f_1       f_2       f_3       f_4       f_5       f_6  \\\n0    0.225842  1.551378 -0.107347  0.859695 -0.942963 -1.096625 -1.197167   \n1    0.110836 -1.454615  0.263888 -1.654510  0.818549  0.482849  0.358334   \n2    0.458600 -0.081280 -0.698474  0.737528  0.860085  0.275249  0.333945   \n3   -1.795643 -0.453414 -0.423760  0.155325  0.487775  0.398147  0.732829   \n4   -1.180626  0.339530  0.328010 -0.224555  0.963951 -1.058450  0.941256   \n..        ...       ...       ...       ...       ...       ...       ...   \n995  1.726964 -0.372833  0.722381  1.024063 -1.760809  0.592527  0.224685   \n996  0.919229 -1.438278  0.113270  2.062525  1.281016 -1.067533  1.873298   \n997 -0.512589  1.124777  0.898360  0.906544 -2.301472  0.072252  1.390255   \n998 -2.968368 -0.929848  0.055208  1.366747  0.427677  0.313143  0.720224   \n999 -0.487167  2.801373 -1.088635  0.288150  0.321653  0.358848 -0.842099   \n\n          f_7       f_8       f_9  ...      f_11      f_12      f_13  \\\n0   -1.733767 -0.950042  1.274060  ...  1.477373  0.335126 -0.621135   \n1   -0.061366  0.327626  1.270846  ... -0.546838  2.679629 -1.851587   \n2   -1.076817  0.947821 -0.181406  ...  0.379610  1.508083  0.555380   \n3    2.042178  0.733548  1.598322  ... -0.734233  0.076609  1.048483   \n4    0.968745 -0.002686  0.042907  ... -1.049914 -1.078364 -0.494912   \n..        ...       ...       ...  ...       ...       ...       ...   \n995  1.208366  2.558199 -0.551858  ... -1.525656  1.542110 -1.418366   \n996  0.423599 -0.846357  0.484733  ...  0.067856 -0.334775 -0.447322   \n997  0.064506 -0.187859 -0.258939  ... -0.820879 -0.171674 -0.246335   \n998  0.733348  1.516288 -0.920583  ... -0.704360  0.038916 -0.607323   \n999  0.884442 -0.370931 -0.279350  ...  0.398713  0.336075  0.826146   \n\n         f_14      f_15      f_16      f_17      f_18      f_19      target  \n0   -1.525106  1.011097  1.478184 -1.351547  0.364602  0.133166    2.887328  \n1    0.872090 -0.987858  1.744496 -1.426464 -0.604514 -0.166242 -254.379865  \n2   -1.383018 -0.836187  0.606730  0.908223  0.511415 -2.093178  188.854342  \n3    0.008784 -0.141530 -2.104750 -0.330090 -0.511764 -0.237683 -179.585447  \n4   -0.518436  0.269235 -0.668149 -1.044086  0.482665 -0.579855  -48.078873  \n..        ...       ...       ...       ...       ...       ...         ...  \n995 -0.564248  1.262584  2.061504 -0.399636  2.006093  0.184551  -80.115568  \n996 -0.643550  0.852774 -0.955123 -0.668144 -0.403648  1.029961  159.050361  \n997  1.118895 -0.426804  0.357661  0.683212  1.098485  1.274428   20.397855  \n998 -1.570237  0.204857  0.167003  1.349546 -0.489467  1.232284 -139.447959  \n999 -0.081193 -0.370022  0.499559 -2.217609  0.500113  0.835333   -7.253606  \n\n[1000 rows x 21 columns]",
      "text/html": "<div>\n<style scoped>\n    .dataframe tbody tr th:only-of-type {\n        vertical-align: middle;\n    }\n\n    .dataframe tbody tr th {\n        vertical-align: top;\n    }\n\n    .dataframe thead th {\n        text-align: right;\n    }\n</style>\n<table border=\"1\" class=\"dataframe\">\n  <thead>\n    <tr style=\"text-align: right;\">\n      <th></th>\n      <th>f_0</th>\n      <th>f_1</th>\n      <th>f_2</th>\n      <th>f_3</th>\n      <th>f_4</th>\n      <th>f_5</th>\n      <th>f_6</th>\n      <th>f_7</th>\n      <th>f_8</th>\n      <th>f_9</th>\n      <th>...</th>\n      <th>f_11</th>\n      <th>f_12</th>\n      <th>f_13</th>\n      <th>f_14</th>\n      <th>f_15</th>\n      <th>f_16</th>\n      <th>f_17</th>\n      <th>f_18</th>\n      <th>f_19</th>\n      <th>target</th>\n    </tr>\n  </thead>\n  <tbody>\n    <tr>\n      <th>0</th>\n      <td>0.225842</td>\n      <td>1.551378</td>\n      <td>-0.107347</td>\n      <td>0.859695</td>\n      <td>-0.942963</td>\n      <td>-1.096625</td>\n      <td>-1.197167</td>\n      <td>-1.733767</td>\n      <td>-0.950042</td>\n      <td>1.274060</td>\n      <td>...</td>\n      <td>1.477373</td>\n      <td>0.335126</td>\n      <td>-0.621135</td>\n      <td>-1.525106</td>\n      <td>1.011097</td>\n      <td>1.478184</td>\n      <td>-1.351547</td>\n      <td>0.364602</td>\n      <td>0.133166</td>\n      <td>2.887328</td>\n    </tr>\n    <tr>\n      <th>1</th>\n      <td>0.110836</td>\n      <td>-1.454615</td>\n      <td>0.263888</td>\n      <td>-1.654510</td>\n      <td>0.818549</td>\n      <td>0.482849</td>\n      <td>0.358334</td>\n      <td>-0.061366</td>\n      <td>0.327626</td>\n      <td>1.270846</td>\n      <td>...</td>\n      <td>-0.546838</td>\n      <td>2.679629</td>\n      <td>-1.851587</td>\n      <td>0.872090</td>\n      <td>-0.987858</td>\n      <td>1.744496</td>\n      <td>-1.426464</td>\n      <td>-0.604514</td>\n      <td>-0.166242</td>\n      <td>-254.379865</td>\n    </tr>\n    <tr>\n      <th>2</th>\n      <td>0.458600</td>\n      <td>-0.081280</td>\n      <td>-0.698474</td>\n      <td>0.737528</td>\n      <td>0.860085</td>\n      <td>0.275249</td>\n      <td>0.333945</td>\n      <td>-1.076817</td>\n      <td>0.947821</td>\n      <td>-0.181406</td>\n      <td>...</td>\n      <td>0.379610</td>\n      <td>1.508083</td>\n      <td>0.555380</td>\n      <td>-1.383018</td>\n      <td>-0.836187</td>\n      <td>0.606730</td>\n      <td>0.908223</td>\n      <td>0.511415</td>\n      <td>-2.093178</td>\n      <td>188.854342</td>\n    </tr>\n    <tr>\n      <th>3</th>\n      <td>-1.795643</td>\n      <td>-0.453414</td>\n      <td>-0.423760</td>\n      <td>0.155325</td>\n      <td>0.487775</td>\n      <td>0.398147</td>\n      <td>0.732829</td>\n      <td>2.042178</td>\n      <td>0.733548</td>\n      <td>1.598322</td>\n      <td>...</td>\n      <td>-0.734233</td>\n      <td>0.076609</td>\n      <td>1.048483</td>\n      <td>0.008784</td>\n      <td>-0.141530</td>\n      <td>-2.104750</td>\n      <td>-0.330090</td>\n      <td>-0.511764</td>\n      <td>-0.237683</td>\n      <td>-179.585447</td>\n    </tr>\n    <tr>\n      <th>4</th>\n      <td>-1.180626</td>\n      <td>0.339530</td>\n      <td>0.328010</td>\n      <td>-0.224555</td>\n      <td>0.963951</td>\n      <td>-1.058450</td>\n      <td>0.941256</td>\n      <td>0.968745</td>\n      <td>-0.002686</td>\n      <td>0.042907</td>\n      <td>...</td>\n      <td>-1.049914</td>\n      <td>-1.078364</td>\n      <td>-0.494912</td>\n      <td>-0.518436</td>\n      <td>0.269235</td>\n      <td>-0.668149</td>\n      <td>-1.044086</td>\n      <td>0.482665</td>\n      <td>-0.579855</td>\n      <td>-48.078873</td>\n    </tr>\n    <tr>\n      <th>...</th>\n      <td>...</td>\n      <td>...</td>\n      <td>...</td>\n      <td>...</td>\n      <td>...</td>\n      <td>...</td>\n      <td>...</td>\n      <td>...</td>\n      <td>...</td>\n      <td>...</td>\n      <td>...</td>\n      <td>...</td>\n      <td>...</td>\n      <td>...</td>\n      <td>...</td>\n      <td>...</td>\n      <td>...</td>\n      <td>...</td>\n      <td>...</td>\n      <td>...</td>\n      <td>...</td>\n    </tr>\n    <tr>\n      <th>995</th>\n      <td>1.726964</td>\n      <td>-0.372833</td>\n      <td>0.722381</td>\n      <td>1.024063</td>\n      <td>-1.760809</td>\n      <td>0.592527</td>\n      <td>0.224685</td>\n      <td>1.208366</td>\n      <td>2.558199</td>\n      <td>-0.551858</td>\n      <td>...</td>\n      <td>-1.525656</td>\n      <td>1.542110</td>\n      <td>-1.418366</td>\n      <td>-0.564248</td>\n      <td>1.262584</td>\n      <td>2.061504</td>\n      <td>-0.399636</td>\n      <td>2.006093</td>\n      <td>0.184551</td>\n      <td>-80.115568</td>\n    </tr>\n    <tr>\n      <th>996</th>\n      <td>0.919229</td>\n      <td>-1.438278</td>\n      <td>0.113270</td>\n      <td>2.062525</td>\n      <td>1.281016</td>\n      <td>-1.067533</td>\n      <td>1.873298</td>\n      <td>0.423599</td>\n      <td>-0.846357</td>\n      <td>0.484733</td>\n      <td>...</td>\n      <td>0.067856</td>\n      <td>-0.334775</td>\n      <td>-0.447322</td>\n      <td>-0.643550</td>\n      <td>0.852774</td>\n      <td>-0.955123</td>\n      <td>-0.668144</td>\n      <td>-0.403648</td>\n      <td>1.029961</td>\n      <td>159.050361</td>\n    </tr>\n    <tr>\n      <th>997</th>\n      <td>-0.512589</td>\n      <td>1.124777</td>\n      <td>0.898360</td>\n      <td>0.906544</td>\n      <td>-2.301472</td>\n      <td>0.072252</td>\n      <td>1.390255</td>\n      <td>0.064506</td>\n      <td>-0.187859</td>\n      <td>-0.258939</td>\n      <td>...</td>\n      <td>-0.820879</td>\n      <td>-0.171674</td>\n      <td>-0.246335</td>\n      <td>1.118895</td>\n      <td>-0.426804</td>\n      <td>0.357661</td>\n      <td>0.683212</td>\n      <td>1.098485</td>\n      <td>1.274428</td>\n      <td>20.397855</td>\n    </tr>\n    <tr>\n      <th>998</th>\n      <td>-2.968368</td>\n      <td>-0.929848</td>\n      <td>0.055208</td>\n      <td>1.366747</td>\n      <td>0.427677</td>\n      <td>0.313143</td>\n      <td>0.720224</td>\n      <td>0.733348</td>\n      <td>1.516288</td>\n      <td>-0.920583</td>\n      <td>...</td>\n      <td>-0.704360</td>\n      <td>0.038916</td>\n      <td>-0.607323</td>\n      <td>-1.570237</td>\n      <td>0.204857</td>\n      <td>0.167003</td>\n      <td>1.349546</td>\n      <td>-0.489467</td>\n      <td>1.232284</td>\n      <td>-139.447959</td>\n    </tr>\n    <tr>\n      <th>999</th>\n      <td>-0.487167</td>\n      <td>2.801373</td>\n      <td>-1.088635</td>\n      <td>0.288150</td>\n      <td>0.321653</td>\n      <td>0.358848</td>\n      <td>-0.842099</td>\n      <td>0.884442</td>\n      <td>-0.370931</td>\n      <td>-0.279350</td>\n      <td>...</td>\n      <td>0.398713</td>\n      <td>0.336075</td>\n      <td>0.826146</td>\n      <td>-0.081193</td>\n      <td>-0.370022</td>\n      <td>0.499559</td>\n      <td>-2.217609</td>\n      <td>0.500113</td>\n      <td>0.835333</td>\n      <td>-7.253606</td>\n    </tr>\n  </tbody>\n</table>\n<p>1000 rows × 21 columns</p>\n</div>"
     },
     "execution_count": 34,
     "metadata": {},
     "output_type": "execute_result"
    }
   ],
   "source": [
    "df = pd.DataFrame(\n",
    "    X,\n",
    "    columns=[f\"f_{i}\" for i in range(X.shape[1])]\n",
    ")\n",
    "df.loc[:, \"target\"] = y\n",
    "df"
   ],
   "metadata": {
    "collapsed": false,
    "ExecuteTime": {
     "end_time": "2024-02-27T09:24:10.103349600Z",
     "start_time": "2024-02-27T09:24:10.046329900Z"
    }
   },
   "id": "5bf70a5856809d40",
   "execution_count": 34
  },
  {
   "cell_type": "code",
   "outputs": [],
   "source": [
    "def create_folds(data):\n",
    "    data[\"kfold\"] = -1\n",
    "    data = data.sample(frac=1).reset_index(drop=True)\n",
    "    num_bins = int(np.floor(1 + np.log2(len(data))))\n",
    "    data.loc[:, \"bins\"] = pd.cut(data[\"target\"], bins=num_bins, labels=False)\n",
    "    kf = model_selection.StratifiedKFold(n_splits=5)\n",
    "    for f, (t_, v_) in enumerate(kf.split(X=data, y=data.bins.values)):\n",
    "        data.loc[v_, 'kfold'] = f\n",
    "    data = data.drop(\"bins\", axis=1)\n",
    "    return data"
   ],
   "metadata": {
    "collapsed": false
   },
   "id": "37b20c47f9f9c108"
  },
  {
   "cell_type": "code",
   "outputs": [
    {
     "data": {
      "text/plain": "0      1\n1      0\n2      1\n3      0\n4      0\n      ..\n995    0\n996    1\n997    1\n998    0\n999    1\nName: target, Length: 1000, dtype: int64"
     },
     "execution_count": 36,
     "metadata": {},
     "output_type": "execute_result"
    }
   ],
   "source": [
    "pd.cut(df[\"target\"], bins=2, labels=False)"
   ],
   "metadata": {
    "collapsed": false,
    "ExecuteTime": {
     "end_time": "2024-02-27T09:36:23.834146400Z",
     "start_time": "2024-02-27T09:36:23.792367200Z"
    }
   },
   "id": "c830a9ffe2d9a3ac",
   "execution_count": 36
  },
  {
   "cell_type": "code",
   "outputs": [],
   "source": [],
   "metadata": {
    "collapsed": false
   },
   "id": "d8c1308cd10cd4b"
  }
 ],
 "metadata": {
  "kernelspec": {
   "display_name": "Python 3",
   "language": "python",
   "name": "python3"
  },
  "language_info": {
   "codemirror_mode": {
    "name": "ipython",
    "version": 2
   },
   "file_extension": ".py",
   "mimetype": "text/x-python",
   "name": "python",
   "nbconvert_exporter": "python",
   "pygments_lexer": "ipython2",
   "version": "2.7.6"
  }
 },
 "nbformat": 4,
 "nbformat_minor": 5
}
